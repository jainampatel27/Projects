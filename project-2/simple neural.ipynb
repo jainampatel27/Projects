{
 "cells": [
  {
   "cell_type": "code",
   "execution_count": 233,
   "metadata": {
    "executionInfo": {
     "elapsed": 7488,
     "status": "ok",
     "timestamp": 1691721481873,
     "user": {
      "displayName": "Jainam Patel",
      "userId": "14699281971517665098"
     },
     "user_tz": -330
    },
    "id": "PMec5Y8XB-mf"
   },
   "outputs": [],
   "source": [
    "import pandas as pd\n",
    "import numpy as np\n",
    "import tensorflow as tf\n",
    "import seaborn as sns\n",
    "from tensorflow.keras.layers import Normalization,Dense,InputLayer\n",
    "from tensorflow.keras.losses import MeanAbsoluteError\n",
    "from tensorflow.keras.optimizers import Adam\n",
    "from tensorflow.keras.metrics import RootMeanSquaredError\n",
    "import matplotlib.pyplot as plt"
   ]
  },
  {
   "cell_type": "code",
   "execution_count": 234,
   "metadata": {
    "colab": {
     "base_uri": "https://localhost:8080/"
    },
    "executionInfo": {
     "elapsed": 13,
     "status": "ok",
     "timestamp": 1691721482596,
     "user": {
      "displayName": "Jainam Patel",
      "userId": "14699281971517665098"
     },
     "user_tz": -330
    },
    "id": "MxxqDpeQKQcy",
    "outputId": "f671efb0-cfd3-4ef0-a6f7-4a8da47fd8ef"
   },
   "outputs": [
    {
     "data": {
      "text/plain": [
       "[PhysicalDevice(name='/physical_device:CPU:0', device_type='CPU')]"
      ]
     },
     "execution_count": 234,
     "metadata": {},
     "output_type": "execute_result"
    }
   ],
   "source": [
    "tf.config.list_physical_devices()"
   ]
  },
  {
   "cell_type": "code",
   "execution_count": 235,
   "metadata": {
    "colab": {
     "base_uri": "https://localhost:8080/"
    },
    "executionInfo": {
     "elapsed": 18,
     "status": "ok",
     "timestamp": 1691721517105,
     "user": {
      "displayName": "Jainam Patel",
      "userId": "14699281971517665098"
     },
     "user_tz": -330
    },
    "id": "zCZ0Vo3SdcH2",
    "outputId": "a2be3708-dd78-49de-89b9-ff1c80b479ce"
   },
   "outputs": [
    {
     "data": {
      "text/plain": [
       "False"
      ]
     },
     "execution_count": 235,
     "metadata": {},
     "output_type": "execute_result"
    }
   ],
   "source": [
    "tf.test.is_gpu_available(\n",
    "    cuda_only=True, min_cuda_compute_capability=None\n",
    ")"
   ]
  },
  {
   "cell_type": "code",
   "execution_count": 236,
   "metadata": {
    "id": "Whonu47mEw34"
   },
   "outputs": [],
   "source": [
    "data = pd.read_csv(r'C:\\Users\\Patel\\OneDrive\\Desktop\\Work\\simple neural net\\train.csv')"
   ]
  },
  {
   "cell_type": "code",
   "execution_count": 237,
   "metadata": {
    "colab": {
     "base_uri": "https://localhost:8080/",
     "height": 206
    },
    "executionInfo": {
     "elapsed": 17,
     "status": "ok",
     "timestamp": 1691560253502,
     "user": {
      "displayName": "Jainam Patel",
      "userId": "14699281971517665098"
     },
     "user_tz": -330
    },
    "id": "nhu0C60xJEra",
    "outputId": "a2d0d3b3-c3ef-47eb-ea8c-5a246bfdc3fc"
   },
   "outputs": [
    {
     "data": {
      "text/html": [
       "<div>\n",
       "<style scoped>\n",
       "    .dataframe tbody tr th:only-of-type {\n",
       "        vertical-align: middle;\n",
       "    }\n",
       "\n",
       "    .dataframe tbody tr th {\n",
       "        vertical-align: top;\n",
       "    }\n",
       "\n",
       "    .dataframe thead th {\n",
       "        text-align: right;\n",
       "    }\n",
       "</style>\n",
       "<table border=\"1\" class=\"dataframe\">\n",
       "  <thead>\n",
       "    <tr style=\"text-align: right;\">\n",
       "      <th></th>\n",
       "      <th>v.id</th>\n",
       "      <th>on road old</th>\n",
       "      <th>on road now</th>\n",
       "      <th>years</th>\n",
       "      <th>km</th>\n",
       "      <th>rating</th>\n",
       "      <th>condition</th>\n",
       "      <th>economy</th>\n",
       "      <th>top speed</th>\n",
       "      <th>hp</th>\n",
       "      <th>torque</th>\n",
       "      <th>current price</th>\n",
       "    </tr>\n",
       "  </thead>\n",
       "  <tbody>\n",
       "    <tr>\n",
       "      <th>0</th>\n",
       "      <td>1</td>\n",
       "      <td>535651</td>\n",
       "      <td>798186</td>\n",
       "      <td>3</td>\n",
       "      <td>78945</td>\n",
       "      <td>1</td>\n",
       "      <td>2</td>\n",
       "      <td>14</td>\n",
       "      <td>177</td>\n",
       "      <td>73</td>\n",
       "      <td>123</td>\n",
       "      <td>351318.0</td>\n",
       "    </tr>\n",
       "    <tr>\n",
       "      <th>1</th>\n",
       "      <td>2</td>\n",
       "      <td>591911</td>\n",
       "      <td>861056</td>\n",
       "      <td>6</td>\n",
       "      <td>117220</td>\n",
       "      <td>5</td>\n",
       "      <td>9</td>\n",
       "      <td>9</td>\n",
       "      <td>148</td>\n",
       "      <td>74</td>\n",
       "      <td>95</td>\n",
       "      <td>285001.5</td>\n",
       "    </tr>\n",
       "    <tr>\n",
       "      <th>2</th>\n",
       "      <td>3</td>\n",
       "      <td>686990</td>\n",
       "      <td>770762</td>\n",
       "      <td>2</td>\n",
       "      <td>132538</td>\n",
       "      <td>2</td>\n",
       "      <td>8</td>\n",
       "      <td>15</td>\n",
       "      <td>181</td>\n",
       "      <td>53</td>\n",
       "      <td>97</td>\n",
       "      <td>215386.0</td>\n",
       "    </tr>\n",
       "    <tr>\n",
       "      <th>3</th>\n",
       "      <td>4</td>\n",
       "      <td>573999</td>\n",
       "      <td>722381</td>\n",
       "      <td>4</td>\n",
       "      <td>101065</td>\n",
       "      <td>4</td>\n",
       "      <td>3</td>\n",
       "      <td>11</td>\n",
       "      <td>197</td>\n",
       "      <td>54</td>\n",
       "      <td>116</td>\n",
       "      <td>244295.5</td>\n",
       "    </tr>\n",
       "    <tr>\n",
       "      <th>4</th>\n",
       "      <td>5</td>\n",
       "      <td>691388</td>\n",
       "      <td>811335</td>\n",
       "      <td>6</td>\n",
       "      <td>61559</td>\n",
       "      <td>3</td>\n",
       "      <td>9</td>\n",
       "      <td>12</td>\n",
       "      <td>160</td>\n",
       "      <td>53</td>\n",
       "      <td>105</td>\n",
       "      <td>531114.5</td>\n",
       "    </tr>\n",
       "  </tbody>\n",
       "</table>\n",
       "</div>"
      ],
      "text/plain": [
       "   v.id  on road old  on road now  years      km  rating  condition  economy  \\\n",
       "0     1       535651       798186      3   78945       1          2       14   \n",
       "1     2       591911       861056      6  117220       5          9        9   \n",
       "2     3       686990       770762      2  132538       2          8       15   \n",
       "3     4       573999       722381      4  101065       4          3       11   \n",
       "4     5       691388       811335      6   61559       3          9       12   \n",
       "\n",
       "   top speed  hp  torque  current price  \n",
       "0        177  73     123       351318.0  \n",
       "1        148  74      95       285001.5  \n",
       "2        181  53      97       215386.0  \n",
       "3        197  54     116       244295.5  \n",
       "4        160  53     105       531114.5  "
      ]
     },
     "execution_count": 237,
     "metadata": {},
     "output_type": "execute_result"
    }
   ],
   "source": [
    "data.head()"
   ]
  },
  {
   "cell_type": "code",
   "execution_count": 238,
   "metadata": {
    "colab": {
     "base_uri": "https://localhost:8080/"
    },
    "executionInfo": {
     "elapsed": 20,
     "status": "ok",
     "timestamp": 1691560253684,
     "user": {
      "displayName": "Jainam Patel",
      "userId": "14699281971517665098"
     },
     "user_tz": -330
    },
    "id": "AcjobLAgE9G_",
    "outputId": "a0a7d59c-865e-46db-e14e-e762af40e495"
   },
   "outputs": [
    {
     "data": {
      "text/plain": [
       "(1000, 12)"
      ]
     },
     "execution_count": 238,
     "metadata": {},
     "output_type": "execute_result"
    }
   ],
   "source": [
    "data.shape"
   ]
  },
  {
   "cell_type": "code",
   "execution_count": 239,
   "metadata": {
    "id": "No5wYTlnFbz-"
   },
   "outputs": [],
   "source": [
    "#sns.pairplot(data[['v.id', 'on road old', 'on road now', 'years', 'km', 'rating','condition', 'economy', 'top speed', 'hp', 'torque', 'current price']])"
   ]
  },
  {
   "cell_type": "code",
   "execution_count": 240,
   "metadata": {
    "colab": {
     "base_uri": "https://localhost:8080/"
    },
    "executionInfo": {
     "elapsed": 18,
     "status": "ok",
     "timestamp": 1691560254052,
     "user": {
      "displayName": "Jainam Patel",
      "userId": "14699281971517665098"
     },
     "user_tz": -330
    },
    "id": "Ftln9pS6F55G",
    "outputId": "e37e44f2-dc93-49ac-fb3c-e53f1eea0330"
   },
   "outputs": [
    {
     "data": {
      "text/plain": [
       "Index(['v.id', 'on road old', 'on road now', 'years', 'km', 'rating',\n",
       "       'condition', 'economy', 'top speed', 'hp', 'torque', 'current price'],\n",
       "      dtype='object')"
      ]
     },
     "execution_count": 240,
     "metadata": {},
     "output_type": "execute_result"
    }
   ],
   "source": [
    "data.columns"
   ]
  },
  {
   "cell_type": "code",
   "execution_count": 241,
   "metadata": {
    "colab": {
     "base_uri": "https://localhost:8080/"
    },
    "executionInfo": {
     "elapsed": 6,
     "status": "ok",
     "timestamp": 1691560254222,
     "user": {
      "displayName": "Jainam Patel",
      "userId": "14699281971517665098"
     },
     "user_tz": -330
    },
    "id": "vB_ucOO3F7bn",
    "outputId": "ce886491-ec26-45c3-e717-61c643051db5"
   },
   "outputs": [
    {
     "name": "stdout",
     "output_type": "stream",
     "text": [
      "tf.Tensor(\n",
      "[[1.000000e+00 5.356510e+05 7.981860e+05 ... 7.300000e+01 1.230000e+02\n",
      "  3.513180e+05]\n",
      " [2.000000e+00 5.919110e+05 8.610560e+05 ... 7.400000e+01 9.500000e+01\n",
      "  2.850015e+05]\n",
      " [3.000000e+00 6.869900e+05 7.707620e+05 ... 5.300000e+01 9.700000e+01\n",
      "  2.153860e+05]\n",
      " ...\n",
      " [9.980000e+02 6.463440e+05 8.427330e+05 ... 1.130000e+02 8.900000e+01\n",
      "  4.058710e+05]\n",
      " [9.990000e+02 5.355590e+05 7.324390e+05 ... 1.120000e+02 1.280000e+02\n",
      "  7.439800e+04]\n",
      " [1.000000e+03 5.901050e+05 7.797430e+05 ... 9.900000e+01 9.600000e+01\n",
      "  4.149385e+05]], shape=(1000, 12), dtype=float32)\n"
     ]
    }
   ],
   "source": [
    "#making tensor\n",
    "tensor_data = tf.constant(data)\n",
    "tensor_data = tf.cast(tensor_data,tf.float32)\n",
    "print(tensor_data)"
   ]
  },
  {
   "cell_type": "code",
   "execution_count": 242,
   "metadata": {
    "colab": {
     "base_uri": "https://localhost:8080/"
    },
    "executionInfo": {
     "elapsed": 19,
     "status": "ok",
     "timestamp": 1691560254395,
     "user": {
      "displayName": "Jainam Patel",
      "userId": "14699281971517665098"
     },
     "user_tz": -330
    },
    "id": "tRrfhR8PHBDl",
    "outputId": "8d13f498-2b24-4903-e60f-4544e1f6a7da"
   },
   "outputs": [
    {
     "name": "stdout",
     "output_type": "stream",
     "text": [
      "tf.Tensor(\n",
      "[[7.070000e+02 5.707810e+05 8.668300e+05 ... 8.900000e+01 1.340000e+02\n",
      "  3.523450e+05]\n",
      " [9.040000e+02 6.102460e+05 8.670490e+05 ... 5.800000e+01 9.500000e+01\n",
      "  1.709605e+05]\n",
      " [4.210000e+02 5.522800e+05 8.982900e+05 ... 5.700000e+01 7.200000e+01\n",
      "  2.074805e+05]\n",
      " ...\n",
      " [3.970000e+02 6.290810e+05 8.358600e+05 ... 8.900000e+01 1.020000e+02\n",
      "  3.035065e+05]\n",
      " [9.870000e+02 6.040120e+05 7.810100e+05 ... 1.020000e+02 1.370000e+02\n",
      "  2.096390e+05]\n",
      " [8.000000e+00 6.629900e+05 8.915690e+05 ... 1.090000e+02 9.600000e+01\n",
      "  4.674715e+05]], shape=(1000, 12), dtype=float32)\n"
     ]
    }
   ],
   "source": [
    "#suffle data\n",
    "tensor_data = tf.random.shuffle(tensor_data)\n",
    "print(tensor_data)"
   ]
  },
  {
   "cell_type": "code",
   "execution_count": 243,
   "metadata": {
    "colab": {
     "base_uri": "https://localhost:8080/"
    },
    "executionInfo": {
     "elapsed": 15,
     "status": "ok",
     "timestamp": 1691560254585,
     "user": {
      "displayName": "Jainam Patel",
      "userId": "14699281971517665098"
     },
     "user_tz": -330
    },
    "id": "qnd9CNuDJaCW",
    "outputId": "af3a624a-00b2-4598-e318-4053377e6c4d"
   },
   "outputs": [
    {
     "data": {
      "text/plain": [
       "TensorShape([1000, 8])"
      ]
     },
     "execution_count": 243,
     "metadata": {},
     "output_type": "execute_result"
    }
   ],
   "source": [
    "x = tensor_data[:,3:-1]\n",
    "x.shape"
   ]
  },
  {
   "cell_type": "code",
   "execution_count": 244,
   "metadata": {
    "colab": {
     "base_uri": "https://localhost:8080/"
    },
    "executionInfo": {
     "elapsed": 21,
     "status": "ok",
     "timestamp": 1691560254752,
     "user": {
      "displayName": "Jainam Patel",
      "userId": "14699281971517665098"
     },
     "user_tz": -330
    },
    "id": "1O16vk5aKSAd",
    "outputId": "e550f470-8afb-430a-a37d-88c127c5ab97"
   },
   "outputs": [
    {
     "data": {
      "text/plain": [
       "TensorShape([1000])"
      ]
     },
     "execution_count": 244,
     "metadata": {},
     "output_type": "execute_result"
    }
   ],
   "source": [
    "y = tensor_data[:,-1]\n",
    "y.shape\n"
   ]
  },
  {
   "cell_type": "code",
   "execution_count": 245,
   "metadata": {
    "colab": {
     "base_uri": "https://localhost:8080/"
    },
    "executionInfo": {
     "elapsed": 15,
     "status": "ok",
     "timestamp": 1691560254938,
     "user": {
      "displayName": "Jainam Patel",
      "userId": "14699281971517665098"
     },
     "user_tz": -330
    },
    "id": "VXzBkRgYKrvH",
    "outputId": "76b89b00-a413-4d73-ea62-51e6c75992cf"
   },
   "outputs": [
    {
     "data": {
      "text/plain": [
       "TensorShape([5, 1])"
      ]
     },
     "execution_count": 245,
     "metadata": {},
     "output_type": "execute_result"
    }
   ],
   "source": [
    "y = tf.expand_dims(y,axis=1)\n",
    "y[:5].shape"
   ]
  },
  {
   "cell_type": "code",
   "execution_count": 246,
   "metadata": {
    "colab": {
     "base_uri": "https://localhost:8080/"
    },
    "executionInfo": {
     "elapsed": 21,
     "status": "ok",
     "timestamp": 1691560255136,
     "user": {
      "displayName": "Jainam Patel",
      "userId": "14699281971517665098"
     },
     "user_tz": -330
    },
    "id": "NjtQlwqlLEtQ",
    "outputId": "44f96612-2f03-411f-c51e-86566e904cc6"
   },
   "outputs": [
    {
     "data": {
      "text/plain": [
       "<tf.Tensor: shape=(3, 4), dtype=float32, numpy=\n",
       "array([[-2. , -1.5, -1. , -0.5],\n",
       "       [-1.5, -1. , -0.5,  0. ],\n",
       "       [13.5,  3.5, 13.5, 20. ]], dtype=float32)>"
      ]
     },
     "execution_count": 246,
     "metadata": {},
     "output_type": "execute_result"
    }
   ],
   "source": [
    "#testing function manually\n",
    "norm = Normalization(mean = 5,variance = 4)\n",
    "samplex = tf.constant([[1,2,3,4],[2,3,4,5],[32,12,32,45]])\n",
    "norm(samplex)"
   ]
  },
  {
   "cell_type": "code",
   "execution_count": 247,
   "metadata": {
    "colab": {
     "base_uri": "https://localhost:8080/"
    },
    "executionInfo": {
     "elapsed": 371,
     "status": "ok",
     "timestamp": 1691560255675,
     "user": {
      "displayName": "Jainam Patel",
      "userId": "14699281971517665098"
     },
     "user_tz": -330
    },
    "id": "8q0EHnUwMse2",
    "outputId": "49f9aa2b-6c15-461f-c180-d5c49afb1920"
   },
   "outputs": [
    {
     "data": {
      "text/plain": [
       "<tf.Tensor: shape=(3, 4), dtype=float32, numpy=\n",
       "array([[-0.7415837 , -0.8153742 , -0.7439795 , -0.73312837],\n",
       "       [-0.67206025, -0.5929994 , -0.6695816 , -0.68076205],\n",
       "       [ 1.4136438 ,  1.4083737 ,  1.4135611 ,  1.4138904 ]],\n",
       "      dtype=float32)>"
      ]
     },
     "execution_count": 247,
     "metadata": {},
     "output_type": "execute_result"
    }
   ],
   "source": [
    "#let function decice the values\n",
    "autonorm = Normalization()\n",
    "autonorm.adapt(samplex)\n",
    "autonorm(samplex)\n"
   ]
  },
  {
   "cell_type": "code",
   "execution_count": 248,
   "metadata": {
    "colab": {
     "base_uri": "https://localhost:8080/"
    },
    "executionInfo": {
     "elapsed": 5,
     "status": "ok",
     "timestamp": 1691560255681,
     "user": {
      "displayName": "Jainam Patel",
      "userId": "14699281971517665098"
     },
     "user_tz": -330
    },
    "id": "vRsAbKYtPXta",
    "outputId": "97c6bb8f-3b48-4f06-fa00-a45e50e15515"
   },
   "outputs": [
    {
     "data": {
      "text/plain": [
       "<tf.Tensor: shape=(5, 8), dtype=float32, numpy=\n",
       "array([[4.00000e+00, 9.56470e+04, 2.00000e+00, 8.00000e+00, 8.00000e+00,\n",
       "        1.92000e+02, 8.90000e+01, 1.34000e+02],\n",
       "       [5.00000e+00, 1.45711e+05, 3.00000e+00, 8.00000e+00, 9.00000e+00,\n",
       "        1.94000e+02, 5.80000e+01, 9.50000e+01],\n",
       "       [2.00000e+00, 1.29891e+05, 5.00000e+00, 2.00000e+00, 1.10000e+01,\n",
       "        1.44000e+02, 5.70000e+01, 7.20000e+01],\n",
       "       [2.00000e+00, 5.56900e+04, 4.00000e+00, 5.00000e+00, 1.10000e+01,\n",
       "        1.90000e+02, 8.30000e+01, 1.06000e+02],\n",
       "       [6.00000e+00, 1.35163e+05, 3.00000e+00, 4.00000e+00, 1.10000e+01,\n",
       "        1.88000e+02, 7.00000e+01, 1.06000e+02]], dtype=float32)>"
      ]
     },
     "execution_count": 248,
     "metadata": {},
     "output_type": "execute_result"
    }
   ],
   "source": [
    "#all testing done now lets get on real data\n",
    "x[:5]"
   ]
  },
  {
   "cell_type": "code",
   "execution_count": 249,
   "metadata": {
    "id": "qFXOEUgPQhke"
   },
   "outputs": [],
   "source": [
    "autonorm = Normalization()\n",
    "autonorm.adapt(x)\n",
    "x = autonorm(x)\n"
   ]
  },
  {
   "cell_type": "code",
   "execution_count": 250,
   "metadata": {
    "id": "XbygwiTcNPcd"
   },
   "outputs": [],
   "source": [
    "train = 0.8\n",
    "val = 0.1\n",
    "test = 0.1\n",
    "size = len(x)"
   ]
  },
  {
   "cell_type": "code",
   "execution_count": 251,
   "metadata": {
    "colab": {
     "base_uri": "https://localhost:8080/"
    },
    "executionInfo": {
     "elapsed": 9,
     "status": "ok",
     "timestamp": 1691560256220,
     "user": {
      "displayName": "Jainam Patel",
      "userId": "14699281971517665098"
     },
     "user_tz": -330
    },
    "id": "tYMm7btYNQc6",
    "outputId": "76a6cd70-0289-4b99-8384-97fda91a7e43"
   },
   "outputs": [
    {
     "data": {
      "text/plain": [
       "800"
      ]
     },
     "execution_count": 251,
     "metadata": {},
     "output_type": "execute_result"
    }
   ],
   "source": [
    "xtrain = x[:int(size * train)]\n",
    "ytrain = y[:int(size * train)]\n",
    "xtrain.shape,ytrain.shape\n",
    "int(size * train)"
   ]
  },
  {
   "cell_type": "code",
   "execution_count": 252,
   "metadata": {},
   "outputs": [],
   "source": [
    "train_data = tf.data.Dataset.from_tensor_slices((xtrain,ytrain))\n",
    "train_data =train_data.shuffle(buffer_size = 8,reshuffle_each_iteration = True).batch(32).prefetch(tf.data.AUTOTUNE)"
   ]
  },
  {
   "cell_type": "code",
   "execution_count": 253,
   "metadata": {
    "colab": {
     "base_uri": "https://localhost:8080/"
    },
    "executionInfo": {
     "elapsed": 6,
     "status": "ok",
     "timestamp": 1691560256380,
     "user": {
      "displayName": "Jainam Patel",
      "userId": "14699281971517665098"
     },
     "user_tz": -330
    },
    "id": "N_APQgrgPIjt",
    "outputId": "dbb212e5-f0c6-4001-c029-2bd8c51717f2"
   },
   "outputs": [
    {
     "data": {
      "text/plain": [
       "(800, 900)"
      ]
     },
     "execution_count": 253,
     "metadata": {},
     "output_type": "execute_result"
    }
   ],
   "source": [
    "xval = x[int(size * train):int(size * (train+val))]\n",
    "yval = y[int(size * train):int(size * (train+val))]\n",
    "xval.shape,yval.shape\n",
    "int(size * train),int(size * (train+val))"
   ]
  },
  {
   "cell_type": "code",
   "execution_count": 254,
   "metadata": {},
   "outputs": [],
   "source": [
    "val_data = tf.data.Dataset.from_tensor_slices((xval,yval))\n",
    "val_data = val_data.shuffle(buffer_size = 8,reshuffle_each_iteration = True).batch(32).prefetch(tf.data.AUTOTUNE)"
   ]
  },
  {
   "cell_type": "code",
   "execution_count": 255,
   "metadata": {
    "colab": {
     "base_uri": "https://localhost:8080/"
    },
    "executionInfo": {
     "elapsed": 25,
     "status": "ok",
     "timestamp": 1691560510360,
     "user": {
      "displayName": "Jainam Patel",
      "userId": "14699281971517665098"
     },
     "user_tz": -330
    },
    "id": "1aJevjpDvIvt",
    "outputId": "17dd9658-b954-462f-96b2-8855219ae587"
   },
   "outputs": [
    {
     "data": {
      "text/plain": [
       "(TensorShape([100, 8]), TensorShape([100, 1]))"
      ]
     },
     "execution_count": 255,
     "metadata": {},
     "output_type": "execute_result"
    }
   ],
   "source": [
    "xtest = x[int(size * (train+val)):]\n",
    "ytest = y[int(size * (train+val)):]\n",
    "xtest.shape,ytest.shape"
   ]
  },
  {
   "cell_type": "code",
   "execution_count": 256,
   "metadata": {},
   "outputs": [],
   "source": [
    "test_data = tf.data.Dataset.from_tensor_slices((xtest,ytest))\n",
    "test_data = test_data.shuffle(buffer_size = 8,reshuffle_each_iteration = True).batch(32).prefetch(tf.data.AUTOTUNE)"
   ]
  },
  {
   "cell_type": "code",
   "execution_count": 257,
   "metadata": {
    "colab": {
     "base_uri": "https://localhost:8080/"
    },
    "executionInfo": {
     "elapsed": 48,
     "status": "ok",
     "timestamp": 1691560256804,
     "user": {
      "displayName": "Jainam Patel",
      "userId": "14699281971517665098"
     },
     "user_tz": -330
    },
    "id": "D_TvGV9uQnab",
    "outputId": "3f00aa86-c525-46a1-f6b3-33cd952886f9",
    "scrolled": true
   },
   "outputs": [
    {
     "name": "stdout",
     "output_type": "stream",
     "text": [
      "Model: \"sequential_10\"\n",
      "_________________________________________________________________\n",
      " Layer (type)                Output Shape              Param #   \n",
      "=================================================================\n",
      " normalization_14 (Normaliz  (None, 8)                 17        \n",
      " ation)                                                          \n",
      "                                                                 \n",
      " dense_27 (Dense)            (None, 128)               1152      \n",
      "                                                                 \n",
      " dense_28 (Dense)            (None, 128)               16512     \n",
      "                                                                 \n",
      " dense_29 (Dense)            (None, 128)               16512     \n",
      "                                                                 \n",
      " dense_30 (Dense)            (None, 1)                 129       \n",
      "                                                                 \n",
      "=================================================================\n",
      "Total params: 34322 (134.07 KB)\n",
      "Trainable params: 34305 (134.00 KB)\n",
      "Non-trainable params: 17 (72.00 Byte)\n",
      "_________________________________________________________________\n"
     ]
    }
   ],
   "source": [
    "model = tf.keras.Sequential(\n",
    "    [\n",
    "        InputLayer(input_shape = (8,)),\n",
    "        autonorm,\n",
    "        Dense(128,activation = 'relu'),\n",
    "        Dense(128,activation = 'relu'),\n",
    "        Dense(128,activation = 'relu'),\n",
    "        Dense(1)\n",
    "    ]\n",
    ")\n",
    "model.summary()"
   ]
  },
  {
   "cell_type": "code",
   "execution_count": 258,
   "metadata": {
    "colab": {
     "base_uri": "https://localhost:8080/"
    },
    "executionInfo": {
     "elapsed": 105,
     "status": "ok",
     "timestamp": 1691560256910,
     "user": {
      "displayName": "Jainam Patel",
      "userId": "14699281971517665098"
     },
     "user_tz": -330
    },
    "id": "Xg6UwtpAQws0",
    "outputId": "c0552769-cfd3-4896-b539-a55d5181607c"
   },
   "outputs": [
    {
     "name": "stdout",
     "output_type": "stream",
     "text": [
      "You must install pydot (`pip install pydot`) and install graphviz (see instructions at https://graphviz.gitlab.io/download/) for plot_model to work.\n"
     ]
    }
   ],
   "source": [
    "tf.keras.utils.plot_model(model,to_file = 'model.png',show_shapes = True)"
   ]
  },
  {
   "cell_type": "code",
   "execution_count": 259,
   "metadata": {
    "id": "zd1hfgQ0JjEg"
   },
   "outputs": [],
   "source": [
    "model.compile(loss = MeanAbsoluteError(),optimizer=Adam(learning_rate = 0.1),metrics=RootMeanSquaredError())"
   ]
  },
  {
   "cell_type": "code",
   "execution_count": 260,
   "metadata": {
    "colab": {
     "base_uri": "https://localhost:8080/"
    },
    "executionInfo": {
     "elapsed": 8629,
     "status": "ok",
     "timestamp": 1691560265746,
     "user": {
      "displayName": "Jainam Patel",
      "userId": "14699281971517665098"
     },
     "user_tz": -330
    },
    "id": "HN_wJzQhMisW",
    "outputId": "e2f5b21c-c9d0-44f8-ecc7-86aada8addcb"
   },
   "outputs": [
    {
     "name": "stdout",
     "output_type": "stream",
     "text": [
      "Epoch 1/100\n",
      "25/25 [==============================] - 2s 13ms/step - loss: 173848.6875 - root_mean_squared_error: 213645.4219 - val_loss: 113322.1562 - val_root_mean_squared_error: 133792.8281\n",
      "Epoch 2/100\n",
      "25/25 [==============================] - 0s 3ms/step - loss: 109613.5938 - root_mean_squared_error: 130272.0000 - val_loss: 111114.1172 - val_root_mean_squared_error: 131378.5781\n",
      "Epoch 3/100\n",
      "25/25 [==============================] - 0s 3ms/step - loss: 114215.4766 - root_mean_squared_error: 137065.0312 - val_loss: 113007.6016 - val_root_mean_squared_error: 135726.3594\n",
      "Epoch 4/100\n",
      "25/25 [==============================] - 0s 3ms/step - loss: 114239.0703 - root_mean_squared_error: 138796.6406 - val_loss: 110772.6562 - val_root_mean_squared_error: 130624.6797\n",
      "Epoch 5/100\n",
      "25/25 [==============================] - 0s 3ms/step - loss: 110640.4297 - root_mean_squared_error: 133798.5156 - val_loss: 111710.0391 - val_root_mean_squared_error: 131892.5625\n",
      "Epoch 6/100\n",
      "25/25 [==============================] - 0s 3ms/step - loss: 109470.3516 - root_mean_squared_error: 132154.5156 - val_loss: 110947.6562 - val_root_mean_squared_error: 130810.1328\n",
      "Epoch 7/100\n",
      "25/25 [==============================] - 0s 3ms/step - loss: 110702.4922 - root_mean_squared_error: 133890.6094 - val_loss: 112509.3516 - val_root_mean_squared_error: 133222.3906\n",
      "Epoch 8/100\n",
      "25/25 [==============================] - 0s 3ms/step - loss: 108971.0312 - root_mean_squared_error: 131663.2656 - val_loss: 110399.0000 - val_root_mean_squared_error: 130031.1016\n",
      "Epoch 9/100\n",
      "25/25 [==============================] - 0s 3ms/step - loss: 112376.2422 - root_mean_squared_error: 134586.3906 - val_loss: 110204.0469 - val_root_mean_squared_error: 130879.3281\n",
      "Epoch 10/100\n",
      "25/25 [==============================] - 0s 3ms/step - loss: 111250.1094 - root_mean_squared_error: 135168.5781 - val_loss: 112392.2500 - val_root_mean_squared_error: 133158.0625\n",
      "Epoch 11/100\n",
      "25/25 [==============================] - 0s 3ms/step - loss: 109212.0000 - root_mean_squared_error: 131712.0938 - val_loss: 113820.5234 - val_root_mean_squared_error: 135003.1250\n",
      "Epoch 12/100\n",
      "25/25 [==============================] - 0s 3ms/step - loss: 114732.2031 - root_mean_squared_error: 137697.8750 - val_loss: 109380.0234 - val_root_mean_squared_error: 129128.5781\n",
      "Epoch 13/100\n",
      "25/25 [==============================] - 0s 3ms/step - loss: 108509.6172 - root_mean_squared_error: 130572.1562 - val_loss: 109900.1562 - val_root_mean_squared_error: 129852.7422\n",
      "Epoch 14/100\n",
      "25/25 [==============================] - 0s 3ms/step - loss: 108250.8984 - root_mean_squared_error: 129487.8359 - val_loss: 111785.3203 - val_root_mean_squared_error: 132530.3750\n",
      "Epoch 15/100\n",
      "25/25 [==============================] - 0s 3ms/step - loss: 110582.2031 - root_mean_squared_error: 133502.1250 - val_loss: 110788.2734 - val_root_mean_squared_error: 131354.9375\n",
      "Epoch 16/100\n",
      "25/25 [==============================] - 0s 3ms/step - loss: 110860.9609 - root_mean_squared_error: 133856.5000 - val_loss: 112180.7031 - val_root_mean_squared_error: 133129.2344\n",
      "Epoch 17/100\n",
      "25/25 [==============================] - 0s 3ms/step - loss: 109074.6797 - root_mean_squared_error: 131765.7500 - val_loss: 114418.7500 - val_root_mean_squared_error: 135913.2031\n",
      "Epoch 18/100\n",
      "25/25 [==============================] - 0s 3ms/step - loss: 111825.0234 - root_mean_squared_error: 133537.7344 - val_loss: 109140.4531 - val_root_mean_squared_error: 129026.1406\n",
      "Epoch 19/100\n",
      "25/25 [==============================] - 0s 3ms/step - loss: 108914.6875 - root_mean_squared_error: 131682.5156 - val_loss: 108799.8984 - val_root_mean_squared_error: 128319.9531\n",
      "Epoch 20/100\n",
      "25/25 [==============================] - 0s 7ms/step - loss: 109590.5781 - root_mean_squared_error: 131121.7656 - val_loss: 112010.2578 - val_root_mean_squared_error: 133102.2500\n",
      "Epoch 21/100\n",
      "25/25 [==============================] - 0s 4ms/step - loss: 112159.5000 - root_mean_squared_error: 133761.1719 - val_loss: 108431.3125 - val_root_mean_squared_error: 128008.6250\n",
      "Epoch 22/100\n",
      "25/25 [==============================] - 0s 3ms/step - loss: 108173.1719 - root_mean_squared_error: 130224.8438 - val_loss: 109520.2031 - val_root_mean_squared_error: 129833.9062\n",
      "Epoch 23/100\n",
      "25/25 [==============================] - 0s 3ms/step - loss: 111497.1406 - root_mean_squared_error: 133665.5000 - val_loss: 108297.0391 - val_root_mean_squared_error: 127870.3203\n",
      "Epoch 24/100\n",
      "25/25 [==============================] - 0s 3ms/step - loss: 109466.5078 - root_mean_squared_error: 132052.2656 - val_loss: 108980.6719 - val_root_mean_squared_error: 129012.5312\n",
      "Epoch 25/100\n",
      "25/25 [==============================] - 0s 3ms/step - loss: 108388.1875 - root_mean_squared_error: 130188.4453 - val_loss: 110806.6875 - val_root_mean_squared_error: 131443.7344\n",
      "Epoch 26/100\n",
      "25/25 [==============================] - 0s 3ms/step - loss: 107886.1328 - root_mean_squared_error: 129240.7109 - val_loss: 109335.3125 - val_root_mean_squared_error: 129472.4844\n",
      "Epoch 27/100\n",
      "25/25 [==============================] - 0s 3ms/step - loss: 109243.7734 - root_mean_squared_error: 131546.8594 - val_loss: 111957.0000 - val_root_mean_squared_error: 133110.5156\n",
      "Epoch 28/100\n",
      "25/25 [==============================] - 0s 3ms/step - loss: 108415.3203 - root_mean_squared_error: 129919.1797 - val_loss: 109031.7969 - val_root_mean_squared_error: 129009.5703\n",
      "Epoch 29/100\n",
      "25/25 [==============================] - 0s 3ms/step - loss: 108540.7578 - root_mean_squared_error: 129851.5391 - val_loss: 115946.2109 - val_root_mean_squared_error: 137961.5000\n",
      "Epoch 30/100\n",
      "25/25 [==============================] - 0s 4ms/step - loss: 113511.7734 - root_mean_squared_error: 135802.7656 - val_loss: 107927.2578 - val_root_mean_squared_error: 127330.3125\n",
      "Epoch 31/100\n",
      "25/25 [==============================] - 0s 3ms/step - loss: 109106.9766 - root_mean_squared_error: 132019.8438 - val_loss: 110993.9922 - val_root_mean_squared_error: 131804.2812\n",
      "Epoch 32/100\n",
      "25/25 [==============================] - 0s 3ms/step - loss: 110134.1875 - root_mean_squared_error: 132005.5000 - val_loss: 108223.3828 - val_root_mean_squared_error: 127785.2109\n",
      "Epoch 33/100\n",
      "25/25 [==============================] - 0s 3ms/step - loss: 107667.5234 - root_mean_squared_error: 129810.1328 - val_loss: 109198.7188 - val_root_mean_squared_error: 129201.4531\n",
      "Epoch 34/100\n",
      "25/25 [==============================] - 0s 3ms/step - loss: 110752.6094 - root_mean_squared_error: 132891.7969 - val_loss: 107839.3672 - val_root_mean_squared_error: 127157.6562\n",
      "Epoch 35/100\n",
      "25/25 [==============================] - 0s 3ms/step - loss: 109391.0469 - root_mean_squared_error: 132124.9219 - val_loss: 110599.1328 - val_root_mean_squared_error: 131298.9531\n",
      "Epoch 36/100\n",
      "25/25 [==============================] - 0s 3ms/step - loss: 109747.6562 - root_mean_squared_error: 133300.3438 - val_loss: 110904.1875 - val_root_mean_squared_error: 131681.2344\n",
      "Epoch 37/100\n",
      "25/25 [==============================] - 0s 3ms/step - loss: 109489.4219 - root_mean_squared_error: 131705.8594 - val_loss: 107853.5625 - val_root_mean_squared_error: 127032.3438\n",
      "Epoch 38/100\n",
      "25/25 [==============================] - 0s 3ms/step - loss: 109839.0703 - root_mean_squared_error: 132973.9844 - val_loss: 108255.1016 - val_root_mean_squared_error: 127738.7188\n",
      "Epoch 39/100\n",
      "25/25 [==============================] - 0s 3ms/step - loss: 109439.4531 - root_mean_squared_error: 132943.6250 - val_loss: 109033.0469 - val_root_mean_squared_error: 128720.4453\n",
      "Epoch 40/100\n",
      "25/25 [==============================] - 0s 3ms/step - loss: 107841.8281 - root_mean_squared_error: 128504.9375 - val_loss: 109501.3906 - val_root_mean_squared_error: 129578.4688\n",
      "Epoch 41/100\n",
      "25/25 [==============================] - 0s 3ms/step - loss: 109125.1797 - root_mean_squared_error: 130597.8359 - val_loss: 107900.4531 - val_root_mean_squared_error: 127307.8906\n",
      "Epoch 42/100\n",
      "25/25 [==============================] - 0s 3ms/step - loss: 109971.5312 - root_mean_squared_error: 133350.5469 - val_loss: 109167.4766 - val_root_mean_squared_error: 129068.4141\n",
      "Epoch 43/100\n",
      "25/25 [==============================] - 0s 3ms/step - loss: 109630.0625 - root_mean_squared_error: 131994.0625 - val_loss: 108248.7031 - val_root_mean_squared_error: 127678.4922\n",
      "Epoch 44/100\n",
      "25/25 [==============================] - 0s 3ms/step - loss: 108651.2500 - root_mean_squared_error: 131410.5938 - val_loss: 109467.8125 - val_root_mean_squared_error: 129592.8516\n",
      "Epoch 45/100\n",
      "25/25 [==============================] - 0s 3ms/step - loss: 109547.1797 - root_mean_squared_error: 132115.6875 - val_loss: 107689.2188 - val_root_mean_squared_error: 126861.0703\n",
      "Epoch 46/100\n",
      "25/25 [==============================] - 0s 3ms/step - loss: 110013.7891 - root_mean_squared_error: 133024.5156 - val_loss: 111674.5234 - val_root_mean_squared_error: 132626.4531\n",
      "Epoch 47/100\n",
      "25/25 [==============================] - 0s 3ms/step - loss: 110658.5625 - root_mean_squared_error: 132895.7500 - val_loss: 107993.6797 - val_root_mean_squared_error: 127291.4922\n",
      "Epoch 48/100\n",
      "25/25 [==============================] - 0s 3ms/step - loss: 108425.3828 - root_mean_squared_error: 130673.4297 - val_loss: 110809.9062 - val_root_mean_squared_error: 131570.0625\n",
      "Epoch 49/100\n",
      "25/25 [==============================] - 0s 3ms/step - loss: 109354.4688 - root_mean_squared_error: 131392.4375 - val_loss: 107827.1016 - val_root_mean_squared_error: 127096.1641\n",
      "Epoch 50/100\n",
      "25/25 [==============================] - 0s 3ms/step - loss: 108276.7188 - root_mean_squared_error: 130705.0781 - val_loss: 109752.8203 - val_root_mean_squared_error: 130119.2734\n",
      "Epoch 51/100\n",
      "25/25 [==============================] - 1s 23ms/step - loss: 108704.7422 - root_mean_squared_error: 129967.8203 - val_loss: 109670.7578 - val_root_mean_squared_error: 130123.8125\n",
      "Epoch 52/100\n",
      "25/25 [==============================] - 0s 3ms/step - loss: 109550.1875 - root_mean_squared_error: 131347.9375 - val_loss: 107725.7812 - val_root_mean_squared_error: 127153.0000\n",
      "Epoch 53/100\n",
      "25/25 [==============================] - 0s 3ms/step - loss: 109445.9766 - root_mean_squared_error: 132091.2344 - val_loss: 109757.8906 - val_root_mean_squared_error: 130161.6172\n",
      "Epoch 54/100\n",
      "25/25 [==============================] - 0s 3ms/step - loss: 109401.9062 - root_mean_squared_error: 131692.5000 - val_loss: 108064.4922 - val_root_mean_squared_error: 127504.7188\n",
      "Epoch 55/100\n",
      "25/25 [==============================] - 0s 2ms/step - loss: 109888.7969 - root_mean_squared_error: 132633.0312 - val_loss: 107953.4219 - val_root_mean_squared_error: 127238.0156\n",
      "Epoch 56/100\n",
      "25/25 [==============================] - 0s 2ms/step - loss: 109181.0781 - root_mean_squared_error: 131906.1875 - val_loss: 107864.1562 - val_root_mean_squared_error: 126980.5625\n",
      "Epoch 57/100\n",
      "25/25 [==============================] - 0s 2ms/step - loss: 110777.9609 - root_mean_squared_error: 134145.3125 - val_loss: 107819.5234 - val_root_mean_squared_error: 126938.1172\n",
      "Epoch 58/100\n",
      "25/25 [==============================] - 0s 3ms/step - loss: 112660.7422 - root_mean_squared_error: 138160.7031 - val_loss: 107926.4688 - val_root_mean_squared_error: 126979.2656\n",
      "Epoch 59/100\n",
      "25/25 [==============================] - 0s 3ms/step - loss: 109306.3984 - root_mean_squared_error: 132091.4844 - val_loss: 108490.9062 - val_root_mean_squared_error: 127890.3672\n",
      "Epoch 60/100\n",
      "25/25 [==============================] - 0s 3ms/step - loss: 111238.5234 - root_mean_squared_error: 134291.7656 - val_loss: 108860.8984 - val_root_mean_squared_error: 130513.4141\n",
      "Epoch 61/100\n",
      "25/25 [==============================] - 0s 3ms/step - loss: 112815.0391 - root_mean_squared_error: 136818.2344 - val_loss: 108452.6406 - val_root_mean_squared_error: 129428.1953\n",
      "Epoch 62/100\n",
      "25/25 [==============================] - 0s 3ms/step - loss: 114693.0234 - root_mean_squared_error: 139290.0781 - val_loss: 108880.6328 - val_root_mean_squared_error: 130624.8828\n",
      "Epoch 63/100\n",
      "25/25 [==============================] - 0s 3ms/step - loss: 112967.6875 - root_mean_squared_error: 137359.3281 - val_loss: 109471.1719 - val_root_mean_squared_error: 132247.9375\n",
      "Epoch 64/100\n",
      "25/25 [==============================] - 0s 3ms/step - loss: 115376.0391 - root_mean_squared_error: 140182.1094 - val_loss: 109527.7891 - val_root_mean_squared_error: 132209.9375\n",
      "Epoch 65/100\n",
      "25/25 [==============================] - 0s 3ms/step - loss: 114730.8906 - root_mean_squared_error: 138970.2656 - val_loss: 110018.8594 - val_root_mean_squared_error: 133389.6719\n",
      "Epoch 66/100\n",
      "25/25 [==============================] - 0s 3ms/step - loss: 114581.2578 - root_mean_squared_error: 138620.3594 - val_loss: 110738.7266 - val_root_mean_squared_error: 135201.6094\n",
      "Epoch 67/100\n",
      "25/25 [==============================] - 0s 3ms/step - loss: 113899.0000 - root_mean_squared_error: 137225.7656 - val_loss: 110981.8672 - val_root_mean_squared_error: 135740.5781\n",
      "Epoch 68/100\n",
      "25/25 [==============================] - 0s 3ms/step - loss: 114052.9297 - root_mean_squared_error: 136661.1094 - val_loss: 111110.8125 - val_root_mean_squared_error: 136103.3906\n",
      "Epoch 69/100\n",
      "25/25 [==============================] - 0s 3ms/step - loss: 113785.1094 - root_mean_squared_error: 135876.5156 - val_loss: 113617.9766 - val_root_mean_squared_error: 140056.5469\n",
      "Epoch 70/100\n",
      "25/25 [==============================] - 0s 3ms/step - loss: 113059.0391 - root_mean_squared_error: 133848.0000 - val_loss: 110281.3281 - val_root_mean_squared_error: 134249.9531\n",
      "Epoch 71/100\n",
      "25/25 [==============================] - 0s 3ms/step - loss: 113435.3906 - root_mean_squared_error: 134545.8906 - val_loss: 110874.4922 - val_root_mean_squared_error: 135567.3438\n",
      "Epoch 72/100\n",
      "25/25 [==============================] - 0s 3ms/step - loss: 113433.2109 - root_mean_squared_error: 134522.1406 - val_loss: 110421.4922 - val_root_mean_squared_error: 134528.0625\n",
      "Epoch 73/100\n",
      "25/25 [==============================] - 0s 3ms/step - loss: 110653.5391 - root_mean_squared_error: 130996.3359 - val_loss: 110738.0078 - val_root_mean_squared_error: 135283.8125\n",
      "Epoch 74/100\n",
      "25/25 [==============================] - 0s 3ms/step - loss: 113252.8672 - root_mean_squared_error: 134529.8125 - val_loss: 110799.8672 - val_root_mean_squared_error: 135408.6562\n",
      "Epoch 75/100\n",
      "25/25 [==============================] - 0s 3ms/step - loss: 112146.0625 - root_mean_squared_error: 132697.5781 - val_loss: 111418.4531 - val_root_mean_squared_error: 136713.8125\n",
      "Epoch 76/100\n",
      "25/25 [==============================] - 0s 3ms/step - loss: 112120.9609 - root_mean_squared_error: 132767.9844 - val_loss: 110017.3984 - val_root_mean_squared_error: 133454.7031\n",
      "Epoch 77/100\n",
      "25/25 [==============================] - 0s 3ms/step - loss: 110389.8828 - root_mean_squared_error: 130540.7266 - val_loss: 108831.8125 - val_root_mean_squared_error: 130351.2656\n",
      "Epoch 78/100\n",
      "25/25 [==============================] - 0s 3ms/step - loss: 110627.9766 - root_mean_squared_error: 130791.8516 - val_loss: 110758.9297 - val_root_mean_squared_error: 135161.9531\n",
      "Epoch 79/100\n",
      "25/25 [==============================] - 0s 3ms/step - loss: 110275.7266 - root_mean_squared_error: 130466.4062 - val_loss: 109362.8281 - val_root_mean_squared_error: 131692.0625\n",
      "Epoch 80/100\n",
      "25/25 [==============================] - 0s 3ms/step - loss: 110640.5469 - root_mean_squared_error: 130835.1094 - val_loss: 109742.4609 - val_root_mean_squared_error: 132543.1875\n",
      "Epoch 81/100\n",
      "25/25 [==============================] - 0s 3ms/step - loss: 111379.2188 - root_mean_squared_error: 131922.3438 - val_loss: 110652.1797 - val_root_mean_squared_error: 134814.0938\n",
      "Epoch 82/100\n",
      "25/25 [==============================] - 0s 4ms/step - loss: 110049.6875 - root_mean_squared_error: 129884.6953 - val_loss: 108922.7031 - val_root_mean_squared_error: 130662.3047\n",
      "Epoch 83/100\n",
      "25/25 [==============================] - 0s 3ms/step - loss: 109232.9531 - root_mean_squared_error: 129269.6562 - val_loss: 109844.1094 - val_root_mean_squared_error: 133053.9688\n",
      "Epoch 84/100\n",
      "25/25 [==============================] - 0s 3ms/step - loss: 109564.6484 - root_mean_squared_error: 129519.1094 - val_loss: 108598.6094 - val_root_mean_squared_error: 130005.5469\n",
      "Epoch 85/100\n",
      "25/25 [==============================] - 0s 3ms/step - loss: 110219.8828 - root_mean_squared_error: 130526.2344 - val_loss: 109164.7031 - val_root_mean_squared_error: 131286.8281\n",
      "Epoch 86/100\n",
      "25/25 [==============================] - 0s 3ms/step - loss: 109412.4375 - root_mean_squared_error: 129752.3750 - val_loss: 109088.5469 - val_root_mean_squared_error: 131084.9062\n",
      "Epoch 87/100\n",
      "25/25 [==============================] - 0s 3ms/step - loss: 110170.1094 - root_mean_squared_error: 130424.2656 - val_loss: 110162.4062 - val_root_mean_squared_error: 133831.0781\n",
      "Epoch 88/100\n",
      "25/25 [==============================] - 0s 3ms/step - loss: 110159.3438 - root_mean_squared_error: 130221.7656 - val_loss: 109246.4062 - val_root_mean_squared_error: 131471.7344\n",
      "Epoch 89/100\n",
      "25/25 [==============================] - 0s 3ms/step - loss: 110198.9766 - root_mean_squared_error: 130164.6875 - val_loss: 110324.4297 - val_root_mean_squared_error: 134053.3750\n",
      "Epoch 90/100\n",
      "25/25 [==============================] - 0s 3ms/step - loss: 110285.0938 - root_mean_squared_error: 130075.5703 - val_loss: 109326.5312 - val_root_mean_squared_error: 131463.3281\n",
      "Epoch 91/100\n",
      "25/25 [==============================] - 0s 3ms/step - loss: 109721.0469 - root_mean_squared_error: 129802.7656 - val_loss: 109062.5391 - val_root_mean_squared_error: 130864.8359\n",
      "Epoch 92/100\n",
      "25/25 [==============================] - 0s 3ms/step - loss: 110870.4766 - root_mean_squared_error: 130941.2969 - val_loss: 110181.4688 - val_root_mean_squared_error: 133499.9844\n",
      "Epoch 93/100\n",
      "25/25 [==============================] - 0s 3ms/step - loss: 109392.2109 - root_mean_squared_error: 129155.3594 - val_loss: 109275.3438 - val_root_mean_squared_error: 131241.9844\n",
      "Epoch 94/100\n",
      "25/25 [==============================] - 0s 3ms/step - loss: 110762.1016 - root_mean_squared_error: 130930.3125 - val_loss: 110154.0469 - val_root_mean_squared_error: 133264.7656\n",
      "Epoch 95/100\n",
      "25/25 [==============================] - 0s 3ms/step - loss: 109116.9375 - root_mean_squared_error: 129055.7969 - val_loss: 108489.3438 - val_root_mean_squared_error: 129225.6562\n",
      "Epoch 96/100\n",
      "25/25 [==============================] - 0s 3ms/step - loss: 109851.6719 - root_mean_squared_error: 130042.6016 - val_loss: 110116.7422 - val_root_mean_squared_error: 133161.2188\n",
      "Epoch 97/100\n",
      "25/25 [==============================] - 0s 3ms/step - loss: 109486.3125 - root_mean_squared_error: 129250.3750 - val_loss: 108623.9297 - val_root_mean_squared_error: 129793.6953\n",
      "Epoch 98/100\n",
      "25/25 [==============================] - 0s 3ms/step - loss: 108331.7891 - root_mean_squared_error: 128226.5234 - val_loss: 108562.8516 - val_root_mean_squared_error: 129362.3125\n",
      "Epoch 99/100\n",
      "25/25 [==============================] - 0s 3ms/step - loss: 108612.0078 - root_mean_squared_error: 128509.5078 - val_loss: 109166.9531 - val_root_mean_squared_error: 131011.4531\n",
      "Epoch 100/100\n",
      "25/25 [==============================] - 0s 3ms/step - loss: 109766.1562 - root_mean_squared_error: 129755.4453 - val_loss: 109423.0312 - val_root_mean_squared_error: 131468.6562\n"
     ]
    }
   ],
   "source": [
    "history = model.fit(train_data,epochs = 100,verbose = 1,validation_data = val_data)"
   ]
  },
  {
   "cell_type": "code",
   "execution_count": 261,
   "metadata": {
    "colab": {
     "base_uri": "https://localhost:8080/"
    },
    "executionInfo": {
     "elapsed": 27,
     "status": "ok",
     "timestamp": 1691560265848,
     "user": {
      "displayName": "Jainam Patel",
      "userId": "14699281971517665098"
     },
     "user_tz": -330
    },
    "id": "n-h22pc-NbYU",
    "outputId": "678cf016-0a38-4292-dbb7-2f7583875247"
   },
   "outputs": [
    {
     "data": {
      "text/plain": [
       "{'loss': [173848.6875,\n",
       "  109613.59375,\n",
       "  114215.4765625,\n",
       "  114239.0703125,\n",
       "  110640.4296875,\n",
       "  109470.3515625,\n",
       "  110702.4921875,\n",
       "  108971.03125,\n",
       "  112376.2421875,\n",
       "  111250.109375,\n",
       "  109212.0,\n",
       "  114732.203125,\n",
       "  108509.6171875,\n",
       "  108250.8984375,\n",
       "  110582.203125,\n",
       "  110860.9609375,\n",
       "  109074.6796875,\n",
       "  111825.0234375,\n",
       "  108914.6875,\n",
       "  109590.578125,\n",
       "  112159.5,\n",
       "  108173.171875,\n",
       "  111497.140625,\n",
       "  109466.5078125,\n",
       "  108388.1875,\n",
       "  107886.1328125,\n",
       "  109243.7734375,\n",
       "  108415.3203125,\n",
       "  108540.7578125,\n",
       "  113511.7734375,\n",
       "  109106.9765625,\n",
       "  110134.1875,\n",
       "  107667.5234375,\n",
       "  110752.609375,\n",
       "  109391.046875,\n",
       "  109747.65625,\n",
       "  109489.421875,\n",
       "  109839.0703125,\n",
       "  109439.453125,\n",
       "  107841.828125,\n",
       "  109125.1796875,\n",
       "  109971.53125,\n",
       "  109630.0625,\n",
       "  108651.25,\n",
       "  109547.1796875,\n",
       "  110013.7890625,\n",
       "  110658.5625,\n",
       "  108425.3828125,\n",
       "  109354.46875,\n",
       "  108276.71875,\n",
       "  108704.7421875,\n",
       "  109550.1875,\n",
       "  109445.9765625,\n",
       "  109401.90625,\n",
       "  109888.796875,\n",
       "  109181.078125,\n",
       "  110777.9609375,\n",
       "  112660.7421875,\n",
       "  109306.3984375,\n",
       "  111238.5234375,\n",
       "  112815.0390625,\n",
       "  114693.0234375,\n",
       "  112967.6875,\n",
       "  115376.0390625,\n",
       "  114730.890625,\n",
       "  114581.2578125,\n",
       "  113899.0,\n",
       "  114052.9296875,\n",
       "  113785.109375,\n",
       "  113059.0390625,\n",
       "  113435.390625,\n",
       "  113433.2109375,\n",
       "  110653.5390625,\n",
       "  113252.8671875,\n",
       "  112146.0625,\n",
       "  112120.9609375,\n",
       "  110389.8828125,\n",
       "  110627.9765625,\n",
       "  110275.7265625,\n",
       "  110640.546875,\n",
       "  111379.21875,\n",
       "  110049.6875,\n",
       "  109232.953125,\n",
       "  109564.6484375,\n",
       "  110219.8828125,\n",
       "  109412.4375,\n",
       "  110170.109375,\n",
       "  110159.34375,\n",
       "  110198.9765625,\n",
       "  110285.09375,\n",
       "  109721.046875,\n",
       "  110870.4765625,\n",
       "  109392.2109375,\n",
       "  110762.1015625,\n",
       "  109116.9375,\n",
       "  109851.671875,\n",
       "  109486.3125,\n",
       "  108331.7890625,\n",
       "  108612.0078125,\n",
       "  109766.15625],\n",
       " 'root_mean_squared_error': [213645.421875,\n",
       "  130272.0,\n",
       "  137065.03125,\n",
       "  138796.640625,\n",
       "  133798.515625,\n",
       "  132154.515625,\n",
       "  133890.609375,\n",
       "  131663.265625,\n",
       "  134586.390625,\n",
       "  135168.578125,\n",
       "  131712.09375,\n",
       "  137697.875,\n",
       "  130572.15625,\n",
       "  129487.8359375,\n",
       "  133502.125,\n",
       "  133856.5,\n",
       "  131765.75,\n",
       "  133537.734375,\n",
       "  131682.515625,\n",
       "  131121.765625,\n",
       "  133761.171875,\n",
       "  130224.84375,\n",
       "  133665.5,\n",
       "  132052.265625,\n",
       "  130188.4453125,\n",
       "  129240.7109375,\n",
       "  131546.859375,\n",
       "  129919.1796875,\n",
       "  129851.5390625,\n",
       "  135802.765625,\n",
       "  132019.84375,\n",
       "  132005.5,\n",
       "  129810.1328125,\n",
       "  132891.796875,\n",
       "  132124.921875,\n",
       "  133300.34375,\n",
       "  131705.859375,\n",
       "  132973.984375,\n",
       "  132943.625,\n",
       "  128504.9375,\n",
       "  130597.8359375,\n",
       "  133350.546875,\n",
       "  131994.0625,\n",
       "  131410.59375,\n",
       "  132115.6875,\n",
       "  133024.515625,\n",
       "  132895.75,\n",
       "  130673.4296875,\n",
       "  131392.4375,\n",
       "  130705.078125,\n",
       "  129967.8203125,\n",
       "  131347.9375,\n",
       "  132091.234375,\n",
       "  131692.5,\n",
       "  132633.03125,\n",
       "  131906.1875,\n",
       "  134145.3125,\n",
       "  138160.703125,\n",
       "  132091.484375,\n",
       "  134291.765625,\n",
       "  136818.234375,\n",
       "  139290.078125,\n",
       "  137359.328125,\n",
       "  140182.109375,\n",
       "  138970.265625,\n",
       "  138620.359375,\n",
       "  137225.765625,\n",
       "  136661.109375,\n",
       "  135876.515625,\n",
       "  133848.0,\n",
       "  134545.890625,\n",
       "  134522.140625,\n",
       "  130996.3359375,\n",
       "  134529.8125,\n",
       "  132697.578125,\n",
       "  132767.984375,\n",
       "  130540.7265625,\n",
       "  130791.8515625,\n",
       "  130466.40625,\n",
       "  130835.109375,\n",
       "  131922.34375,\n",
       "  129884.6953125,\n",
       "  129269.65625,\n",
       "  129519.109375,\n",
       "  130526.234375,\n",
       "  129752.375,\n",
       "  130424.265625,\n",
       "  130221.765625,\n",
       "  130164.6875,\n",
       "  130075.5703125,\n",
       "  129802.765625,\n",
       "  130941.296875,\n",
       "  129155.359375,\n",
       "  130930.3125,\n",
       "  129055.796875,\n",
       "  130042.6015625,\n",
       "  129250.375,\n",
       "  128226.5234375,\n",
       "  128509.5078125,\n",
       "  129755.4453125],\n",
       " 'val_loss': [113322.15625,\n",
       "  111114.1171875,\n",
       "  113007.6015625,\n",
       "  110772.65625,\n",
       "  111710.0390625,\n",
       "  110947.65625,\n",
       "  112509.3515625,\n",
       "  110399.0,\n",
       "  110204.046875,\n",
       "  112392.25,\n",
       "  113820.5234375,\n",
       "  109380.0234375,\n",
       "  109900.15625,\n",
       "  111785.3203125,\n",
       "  110788.2734375,\n",
       "  112180.703125,\n",
       "  114418.75,\n",
       "  109140.453125,\n",
       "  108799.8984375,\n",
       "  112010.2578125,\n",
       "  108431.3125,\n",
       "  109520.203125,\n",
       "  108297.0390625,\n",
       "  108980.671875,\n",
       "  110806.6875,\n",
       "  109335.3125,\n",
       "  111957.0,\n",
       "  109031.796875,\n",
       "  115946.2109375,\n",
       "  107927.2578125,\n",
       "  110993.9921875,\n",
       "  108223.3828125,\n",
       "  109198.71875,\n",
       "  107839.3671875,\n",
       "  110599.1328125,\n",
       "  110904.1875,\n",
       "  107853.5625,\n",
       "  108255.1015625,\n",
       "  109033.046875,\n",
       "  109501.390625,\n",
       "  107900.453125,\n",
       "  109167.4765625,\n",
       "  108248.703125,\n",
       "  109467.8125,\n",
       "  107689.21875,\n",
       "  111674.5234375,\n",
       "  107993.6796875,\n",
       "  110809.90625,\n",
       "  107827.1015625,\n",
       "  109752.8203125,\n",
       "  109670.7578125,\n",
       "  107725.78125,\n",
       "  109757.890625,\n",
       "  108064.4921875,\n",
       "  107953.421875,\n",
       "  107864.15625,\n",
       "  107819.5234375,\n",
       "  107926.46875,\n",
       "  108490.90625,\n",
       "  108860.8984375,\n",
       "  108452.640625,\n",
       "  108880.6328125,\n",
       "  109471.171875,\n",
       "  109527.7890625,\n",
       "  110018.859375,\n",
       "  110738.7265625,\n",
       "  110981.8671875,\n",
       "  111110.8125,\n",
       "  113617.9765625,\n",
       "  110281.328125,\n",
       "  110874.4921875,\n",
       "  110421.4921875,\n",
       "  110738.0078125,\n",
       "  110799.8671875,\n",
       "  111418.453125,\n",
       "  110017.3984375,\n",
       "  108831.8125,\n",
       "  110758.9296875,\n",
       "  109362.828125,\n",
       "  109742.4609375,\n",
       "  110652.1796875,\n",
       "  108922.703125,\n",
       "  109844.109375,\n",
       "  108598.609375,\n",
       "  109164.703125,\n",
       "  109088.546875,\n",
       "  110162.40625,\n",
       "  109246.40625,\n",
       "  110324.4296875,\n",
       "  109326.53125,\n",
       "  109062.5390625,\n",
       "  110181.46875,\n",
       "  109275.34375,\n",
       "  110154.046875,\n",
       "  108489.34375,\n",
       "  110116.7421875,\n",
       "  108623.9296875,\n",
       "  108562.8515625,\n",
       "  109166.953125,\n",
       "  109423.03125],\n",
       " 'val_root_mean_squared_error': [133792.828125,\n",
       "  131378.578125,\n",
       "  135726.359375,\n",
       "  130624.6796875,\n",
       "  131892.5625,\n",
       "  130810.1328125,\n",
       "  133222.390625,\n",
       "  130031.1015625,\n",
       "  130879.328125,\n",
       "  133158.0625,\n",
       "  135003.125,\n",
       "  129128.578125,\n",
       "  129852.7421875,\n",
       "  132530.375,\n",
       "  131354.9375,\n",
       "  133129.234375,\n",
       "  135913.203125,\n",
       "  129026.140625,\n",
       "  128319.953125,\n",
       "  133102.25,\n",
       "  128008.625,\n",
       "  129833.90625,\n",
       "  127870.3203125,\n",
       "  129012.53125,\n",
       "  131443.734375,\n",
       "  129472.484375,\n",
       "  133110.515625,\n",
       "  129009.5703125,\n",
       "  137961.5,\n",
       "  127330.3125,\n",
       "  131804.28125,\n",
       "  127785.2109375,\n",
       "  129201.453125,\n",
       "  127157.65625,\n",
       "  131298.953125,\n",
       "  131681.234375,\n",
       "  127032.34375,\n",
       "  127738.71875,\n",
       "  128720.4453125,\n",
       "  129578.46875,\n",
       "  127307.890625,\n",
       "  129068.4140625,\n",
       "  127678.4921875,\n",
       "  129592.8515625,\n",
       "  126861.0703125,\n",
       "  132626.453125,\n",
       "  127291.4921875,\n",
       "  131570.0625,\n",
       "  127096.1640625,\n",
       "  130119.2734375,\n",
       "  130123.8125,\n",
       "  127153.0,\n",
       "  130161.6171875,\n",
       "  127504.71875,\n",
       "  127238.015625,\n",
       "  126980.5625,\n",
       "  126938.1171875,\n",
       "  126979.265625,\n",
       "  127890.3671875,\n",
       "  130513.4140625,\n",
       "  129428.1953125,\n",
       "  130624.8828125,\n",
       "  132247.9375,\n",
       "  132209.9375,\n",
       "  133389.671875,\n",
       "  135201.609375,\n",
       "  135740.578125,\n",
       "  136103.390625,\n",
       "  140056.546875,\n",
       "  134249.953125,\n",
       "  135567.34375,\n",
       "  134528.0625,\n",
       "  135283.8125,\n",
       "  135408.65625,\n",
       "  136713.8125,\n",
       "  133454.703125,\n",
       "  130351.265625,\n",
       "  135161.953125,\n",
       "  131692.0625,\n",
       "  132543.1875,\n",
       "  134814.09375,\n",
       "  130662.3046875,\n",
       "  133053.96875,\n",
       "  130005.546875,\n",
       "  131286.828125,\n",
       "  131084.90625,\n",
       "  133831.078125,\n",
       "  131471.734375,\n",
       "  134053.375,\n",
       "  131463.328125,\n",
       "  130864.8359375,\n",
       "  133499.984375,\n",
       "  131241.984375,\n",
       "  133264.765625,\n",
       "  129225.65625,\n",
       "  133161.21875,\n",
       "  129793.6953125,\n",
       "  129362.3125,\n",
       "  131011.453125,\n",
       "  131468.65625]}"
      ]
     },
     "execution_count": 261,
     "metadata": {},
     "output_type": "execute_result"
    }
   ],
   "source": [
    "history.history"
   ]
  },
  {
   "cell_type": "code",
   "execution_count": 262,
   "metadata": {
    "colab": {
     "base_uri": "https://localhost:8080/"
    },
    "executionInfo": {
     "elapsed": 14,
     "status": "ok",
     "timestamp": 1691560265863,
     "user": {
      "displayName": "Jainam Patel",
      "userId": "14699281971517665098"
     },
     "user_tz": -330
    },
    "id": "FR-qa-H2kK8U",
    "outputId": "8724b2f9-abbe-43e8-e530-af3cac3f83c7"
   },
   "outputs": [
    {
     "data": {
      "text/plain": [
       "dict_keys(['loss', 'root_mean_squared_error', 'val_loss', 'val_root_mean_squared_error'])"
      ]
     },
     "execution_count": 262,
     "metadata": {},
     "output_type": "execute_result"
    }
   ],
   "source": [
    "history.history.keys()"
   ]
  },
  {
   "cell_type": "code",
   "execution_count": 263,
   "metadata": {
    "colab": {
     "base_uri": "https://localhost:8080/",
     "height": 449
    },
    "executionInfo": {
     "elapsed": 133,
     "status": "ok",
     "timestamp": 1691560265997,
     "user": {
      "displayName": "Jainam Patel",
      "userId": "14699281971517665098"
     },
     "user_tz": -330
    },
    "id": "cbutUSy_m7ZV",
    "outputId": "99c5a766-fcdb-42f3-9a16-7e1f4d317952"
   },
   "outputs": [
    {
     "data": {
      "image/png": "[encoded data removed]",
      "text/plain": [
       "<Figure size 640x480 with 1 Axes>"
      ]
     },
     "metadata": {},
     "output_type": "display_data"
    }
   ],
   "source": [
    "plt.plot(history.history['loss'])\n",
    "plt.plot(history.history['val_loss'])\n",
    "plt.xlabel('epocs')\n",
    "plt.ylabel('loss')\n",
    "plt.show()"
   ]
  },
  {
   "cell_type": "code",
   "execution_count": 264,
   "metadata": {
    "colab": {
     "base_uri": "https://localhost:8080/",
     "height": 449
    },
    "executionInfo": {
     "elapsed": 250,
     "status": "ok",
     "timestamp": 1691562969473,
     "user": {
      "displayName": "Jainam Patel",
      "userId": "14699281971517665098"
     },
     "user_tz": -330
    },
    "id": "wERtH17jGvLL",
    "outputId": "c338061c-df5d-4baa-d415-090f788dcc39"
   },
   "outputs": [
    {
     "data": {
      "image/png": "[encoded data removed]",
      "text/plain": [
       "<Figure size 640x480 with 1 Axes>"
      ]
     },
     "metadata": {},
     "output_type": "display_data"
    }
   ],
   "source": [
    "plt.plot(history.history['root_mean_squared_error'])\n",
    "plt.plot(history.history['val_root_mean_squared_error'])\n",
    "plt.xlabel('epocs')\n",
    "plt.ylabel('loss')\n",
    "plt.show()"
   ]
  },
  {
   "cell_type": "code",
   "execution_count": 265,
   "metadata": {
    "colab": {
     "base_uri": "https://localhost:8080/"
    },
    "executionInfo": {
     "elapsed": 101,
     "status": "ok",
     "timestamp": 1691562517100,
     "user": {
      "displayName": "Jainam Patel",
      "userId": "14699281971517665098"
     },
     "user_tz": -330
    },
    "id": "arsDw38QG3Q2",
    "outputId": "de4599b6-3288-4c90-a372-3755db457f32"
   },
   "outputs": [
    {
     "name": "stdout",
     "output_type": "stream",
     "text": [
      "4/4 [==============================] - 0s 3ms/step - loss: 98184.0234 - root_mean_squared_error: 116203.9609\n"
     ]
    },
    {
     "data": {
      "text/plain": [
       "[98184.0234375, 116203.9609375]"
      ]
     },
     "execution_count": 265,
     "metadata": {},
     "output_type": "execute_result"
    }
   ],
   "source": [
    "model.evaluate(xtest,ytest)"
   ]
  },
  {
   "cell_type": "code",
   "execution_count": 266,
   "metadata": {
    "colab": {
     "base_uri": "https://localhost:8080/"
    },
    "executionInfo": {
     "elapsed": 73,
     "status": "ok",
     "timestamp": 1691563675473,
     "user": {
      "displayName": "Jainam Patel",
      "userId": "14699281971517665098"
     },
     "user_tz": -330
    },
    "id": "dzffXWFTJEG2",
    "outputId": "a0fb08d6-9678-4e85-f3f4-a326b83ea9e6"
   },
   "outputs": [
    {
     "name": "stdout",
     "output_type": "stream",
     "text": [
      "4/4 [==============================] - 0s 2ms/step\n"
     ]
    },
    {
     "data": {
      "text/plain": [
       "array([[286341.28],\n",
       "       [258507.1 ],\n",
       "       [263496.66],\n",
       "       [295809.06],\n",
       "       [297725.7 ],\n",
       "       [275003.66],\n",
       "       [311399.78],\n",
       "       [291509.03],\n",
       "       [301897.  ],\n",
       "       [293309.78],\n",
       "       [281396.03],\n",
       "       [274707.88],\n",
       "       [290421.78],\n",
       "       [306088.8 ],\n",
       "       [269383.78],\n",
       "       [277968.34],\n",
       "       [279039.44],\n",
       "       [282988.06],\n",
       "       [304020.75],\n",
       "       [294860.  ],\n",
       "       [310275.03],\n",
       "       [260954.53],\n",
       "       [279621.9 ],\n",
       "       [283709.2 ],\n",
       "       [301797.4 ],\n",
       "       [278390.75],\n",
       "       [290643.75],\n",
       "       [284121.8 ],\n",
       "       [292269.2 ],\n",
       "       [293813.66],\n",
       "       [281704.72],\n",
       "       [292182.56],\n",
       "       [312656.  ],\n",
       "       [304163.22],\n",
       "       [278310.12],\n",
       "       [301851.44],\n",
       "       [267801.78],\n",
       "       [261274.56],\n",
       "       [263493.03],\n",
       "       [313320.25],\n",
       "       [300356.94],\n",
       "       [278922.5 ],\n",
       "       [287380.12],\n",
       "       [310537.66],\n",
       "       [314249.16],\n",
       "       [297645.78],\n",
       "       [281642.78],\n",
       "       [260714.03],\n",
       "       [263465.25],\n",
       "       [295918.97],\n",
       "       [298849.06],\n",
       "       [293336.34],\n",
       "       [276575.12],\n",
       "       [272484.66],\n",
       "       [278514.88],\n",
       "       [288026.62],\n",
       "       [300284.22],\n",
       "       [278799.56],\n",
       "       [297971.22],\n",
       "       [272169.44],\n",
       "       [295861.62],\n",
       "       [291857.22],\n",
       "       [259450.11],\n",
       "       [298504.25],\n",
       "       [275673.53],\n",
       "       [266271.  ],\n",
       "       [286787.38],\n",
       "       [292148.6 ],\n",
       "       [271584.62],\n",
       "       [279438.5 ],\n",
       "       [273969.88],\n",
       "       [290894.12],\n",
       "       [309236.9 ],\n",
       "       [274405.88],\n",
       "       [295781.3 ],\n",
       "       [265339.22],\n",
       "       [281608.53],\n",
       "       [293311.34],\n",
       "       [292397.44],\n",
       "       [258915.62],\n",
       "       [253091.5 ],\n",
       "       [282588.72],\n",
       "       [275797.56],\n",
       "       [272042.97],\n",
       "       [294884.66],\n",
       "       [272006.5 ],\n",
       "       [322134.1 ],\n",
       "       [284266.16],\n",
       "       [268455.4 ],\n",
       "       [253574.22],\n",
       "       [290090.03],\n",
       "       [288815.97],\n",
       "       [276761.12],\n",
       "       [283921.84],\n",
       "       [291826.3 ],\n",
       "       [271770.6 ],\n",
       "       [267645.5 ],\n",
       "       [262619.66],\n",
       "       [275941.34],\n",
       "       [263491.5 ]], dtype=float32)"
      ]
     },
     "execution_count": 266,
     "metadata": {},
     "output_type": "execute_result"
    }
   ],
   "source": [
    "model.predict(xtest)"
   ]
  },
  {
   "cell_type": "code",
   "execution_count": 267,
   "metadata": {
    "colab": {
     "base_uri": "https://localhost:8080/"
    },
    "executionInfo": {
     "elapsed": 61,
     "status": "ok",
     "timestamp": 1691563805940,
     "user": {
      "displayName": "Jainam Patel",
      "userId": "14699281971517665098"
     },
     "user_tz": -330
    },
    "id": "TaE0jZDHCSLg",
    "outputId": "c5c3acf3-9bcb-418f-8f18-8318a6d33a4d"
   },
   "outputs": [
    {
     "name": "stdout",
     "output_type": "stream",
     "text": [
      "4/4 [==============================] - 0s 2ms/step\n"
     ]
    }
   ],
   "source": [
    "ypred = list(model.predict(xtest)[:,0])"
   ]
  },
  {
   "cell_type": "code",
   "execution_count": 268,
   "metadata": {
    "id": "oyq0_vmnD1o_"
   },
   "outputs": [],
   "source": [
    "ytrue = list(ytest[:,0])"
   ]
  },
  {
   "cell_type": "code",
   "execution_count": 269,
   "metadata": {
    "colab": {
     "base_uri": "https://localhost:8080/",
     "height": 853
    },
    "executionInfo": {
     "elapsed": 675,
     "status": "ok",
     "timestamp": 1691564031607,
     "user": {
      "displayName": "Jainam Patel",
      "userId": "14699281971517665098"
     },
     "user_tz": -330
    },
    "id": "53xRQka7JuHn",
    "outputId": "72e4b73b-65dc-463a-d077-cbe9be93db4b"
   },
   "outputs": [
    {
     "data": {
      "text/plain": [
       "<BarContainer object of 100 artists>"
      ]
     },
     "execution_count": 269,
     "metadata": {},
     "output_type": "execute_result"
    },
    {
     "data": {
      "image/png": "[encoded data removed]",
      "text/plain": [
       "<Figure size 4000x2000 with 1 Axes>"
      ]
     },
     "metadata": {},
     "output_type": "display_data"
    }
   ],
   "source": [
    "plt.figure(figsize=(40,20))\n",
    "plt.xlabel('predict vs actual')\n",
    "plt.bar(np.arange(100),ypred,0.3)\n",
    "plt.bar(np.arange(100)+0.3,ytrue,0.3)"
   ]
  },
  {
   "cell_type": "code",
   "execution_count": null,
   "metadata": {},
   "outputs": [],
   "source": []
  }
 ],
 "metadata": {
  "accelerator": "GPU",
  "colab": {
   "authorship_tag": "ABX9TyPvMVoNK5eFO9/XbIF+CAVl",
   "gpuType": "T4",
   "mount_file_id": "1uyQHK2F6d94UpdnYgMLUBJKwSd0Oh3WJ",
   "provenance": []
  },
  "kernelspec": {
   "display_name": "Python 3 (ipykernel)",
   "language": "python",
   "name": "python3"
  },
  "language_info": {
   "codemirror_mode": {
    "name": "ipython",
    "version": 3
   },
   "file_extension": ".py",
   "mimetype": "text/x-python",
   "name": "python",
   "nbconvert_exporter": "python",
   "pygments_lexer": "ipython3",
   "version": "3.11.3"
  }
 },
 "nbformat": 4,
 "nbformat_minor": 4
}
