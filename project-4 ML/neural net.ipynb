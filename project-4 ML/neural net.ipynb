{
 "cells": [
  {
   "cell_type": "code",
   "execution_count": 25,
   "id": "initial_id",
   "metadata": {
    "collapsed": true,
    "ExecuteTime": {
     "end_time": "2023-10-30T06:04:43.686523Z",
     "start_time": "2023-10-30T06:04:43.680658Z"
    }
   },
   "outputs": [],
   "source": [
    "import pandas as pd\n",
    "from tensorflow.keras.losses import SparseCategoricalCrossentropy\n",
    "import numpy as np\n",
    "import matplotlib.pyplot as plt\n",
    "import tensorflow as tf\n",
    "from tensorflow.keras.layers import InputLayer,Dense\n",
    "from tensorflow.keras.optimizers import Adam\n"
   ]
  },
  {
   "cell_type": "code",
   "execution_count": 26,
   "outputs": [],
   "source": [
    "data = pd.read_csv('BikeBuyers.csv')"
   ],
   "metadata": {
    "collapsed": false,
    "ExecuteTime": {
     "end_time": "2023-10-30T06:04:43.856188Z",
     "start_time": "2023-10-30T06:04:43.846301Z"
    }
   },
   "id": "2a89948dbbc8babc"
  },
  {
   "cell_type": "code",
   "execution_count": 27,
   "outputs": [
    {
     "data": {
      "text/plain": "   YearlyIncome  TotalChildren  NumberChildrenAtHome EnglishEducation  \\\n0         90000              2                     0        Bachelors   \n1         60000              3                     3        Bachelors   \n2         60000              3                     3        Bachelors   \n3         70000              0                     0        Bachelors   \n4         80000              5                     5        Bachelors   \n\n   NumberCarsOwned CommuteDistance  Age  BikeBuyer  \n0                0       1-2 Miles   49          1  \n1                1       0-1 Miles   50          1  \n2                1       2-5 Miles   50          1  \n3                1      5-10 Miles   47          1  \n4                4       1-2 Miles   47          1  ",
      "text/html": "<div>\n<style scoped>\n    .dataframe tbody tr th:only-of-type {\n        vertical-align: middle;\n    }\n\n    .dataframe tbody tr th {\n        vertical-align: top;\n    }\n\n    .dataframe thead th {\n        text-align: right;\n    }\n</style>\n<table border=\"1\" class=\"dataframe\">\n  <thead>\n    <tr style=\"text-align: right;\">\n      <th></th>\n      <th>YearlyIncome</th>\n      <th>TotalChildren</th>\n      <th>NumberChildrenAtHome</th>\n      <th>EnglishEducation</th>\n      <th>NumberCarsOwned</th>\n      <th>CommuteDistance</th>\n      <th>Age</th>\n      <th>BikeBuyer</th>\n    </tr>\n  </thead>\n  <tbody>\n    <tr>\n      <th>0</th>\n      <td>90000</td>\n      <td>2</td>\n      <td>0</td>\n      <td>Bachelors</td>\n      <td>0</td>\n      <td>1-2 Miles</td>\n      <td>49</td>\n      <td>1</td>\n    </tr>\n    <tr>\n      <th>1</th>\n      <td>60000</td>\n      <td>3</td>\n      <td>3</td>\n      <td>Bachelors</td>\n      <td>1</td>\n      <td>0-1 Miles</td>\n      <td>50</td>\n      <td>1</td>\n    </tr>\n    <tr>\n      <th>2</th>\n      <td>60000</td>\n      <td>3</td>\n      <td>3</td>\n      <td>Bachelors</td>\n      <td>1</td>\n      <td>2-5 Miles</td>\n      <td>50</td>\n      <td>1</td>\n    </tr>\n    <tr>\n      <th>3</th>\n      <td>70000</td>\n      <td>0</td>\n      <td>0</td>\n      <td>Bachelors</td>\n      <td>1</td>\n      <td>5-10 Miles</td>\n      <td>47</td>\n      <td>1</td>\n    </tr>\n    <tr>\n      <th>4</th>\n      <td>80000</td>\n      <td>5</td>\n      <td>5</td>\n      <td>Bachelors</td>\n      <td>4</td>\n      <td>1-2 Miles</td>\n      <td>47</td>\n      <td>1</td>\n    </tr>\n  </tbody>\n</table>\n</div>"
     },
     "execution_count": 27,
     "metadata": {},
     "output_type": "execute_result"
    }
   ],
   "source": [
    "data.head()"
   ],
   "metadata": {
    "collapsed": false,
    "ExecuteTime": {
     "end_time": "2023-10-30T06:04:44.006921Z",
     "start_time": "2023-10-30T06:04:44.003685Z"
    }
   },
   "id": "cc87e3a4eee5572"
  },
  {
   "cell_type": "code",
   "execution_count": 28,
   "outputs": [
    {
     "name": "stdout",
     "output_type": "stream",
     "text": [
      "<class 'pandas.core.frame.DataFrame'>\n",
      "RangeIndex: 18484 entries, 0 to 18483\n",
      "Data columns (total 8 columns):\n",
      " #   Column                Non-Null Count  Dtype \n",
      "---  ------                --------------  ----- \n",
      " 0   YearlyIncome          18484 non-null  int64 \n",
      " 1   TotalChildren         18484 non-null  int64 \n",
      " 2   NumberChildrenAtHome  18484 non-null  int64 \n",
      " 3   EnglishEducation      18484 non-null  object\n",
      " 4   NumberCarsOwned       18484 non-null  int64 \n",
      " 5   CommuteDistance       18484 non-null  object\n",
      " 6   Age                   18484 non-null  int64 \n",
      " 7   BikeBuyer             18484 non-null  int64 \n",
      "dtypes: int64(6), object(2)\n",
      "memory usage: 1.1+ MB\n"
     ]
    }
   ],
   "source": [
    "data.info()"
   ],
   "metadata": {
    "collapsed": false,
    "ExecuteTime": {
     "end_time": "2023-10-30T06:04:44.155347Z",
     "start_time": "2023-10-30T06:04:44.148407Z"
    }
   },
   "id": "cd7bc75dae213ce9"
  },
  {
   "cell_type": "code",
   "execution_count": 29,
   "outputs": [
    {
     "data": {
      "text/plain": "YearlyIncome            0\nTotalChildren           0\nNumberChildrenAtHome    0\nEnglishEducation        0\nNumberCarsOwned         0\nCommuteDistance         0\nAge                     0\nBikeBuyer               0\ndtype: int64"
     },
     "execution_count": 29,
     "metadata": {},
     "output_type": "execute_result"
    }
   ],
   "source": [
    "data.isna().sum()"
   ],
   "metadata": {
    "collapsed": false,
    "ExecuteTime": {
     "end_time": "2023-10-30T06:04:44.295471Z",
     "start_time": "2023-10-30T06:04:44.291287Z"
    }
   },
   "id": "541d630e29f650f7"
  },
  {
   "cell_type": "code",
   "execution_count": 30,
   "outputs": [
    {
     "data": {
      "text/plain": "(18484, 8)"
     },
     "execution_count": 30,
     "metadata": {},
     "output_type": "execute_result"
    }
   ],
   "source": [
    "data.shape"
   ],
   "metadata": {
    "collapsed": false,
    "ExecuteTime": {
     "end_time": "2023-10-30T06:04:44.419831Z",
     "start_time": "2023-10-30T06:04:44.416358Z"
    }
   },
   "id": "7b32bbafcf5e92f3"
  },
  {
   "cell_type": "code",
   "execution_count": 31,
   "outputs": [],
   "source": [
    "data = pd.get_dummies(data)"
   ],
   "metadata": {
    "collapsed": false,
    "ExecuteTime": {
     "end_time": "2023-10-30T06:04:44.573901Z",
     "start_time": "2023-10-30T06:04:44.568896Z"
    }
   },
   "id": "6fb8fe2a1e8f0f25"
  },
  {
   "cell_type": "code",
   "execution_count": 32,
   "outputs": [],
   "source": [
    "x = data.drop('BikeBuyer',axis = 1)\n",
    "y = data['BikeBuyer']"
   ],
   "metadata": {
    "collapsed": false,
    "ExecuteTime": {
     "end_time": "2023-10-30T06:04:44.924853Z",
     "start_time": "2023-10-30T06:04:44.922710Z"
    }
   },
   "id": "a2e4641b694a0eb5"
  },
  {
   "cell_type": "code",
   "execution_count": 33,
   "outputs": [],
   "source": [
    "tx = tf.constant(x,dtype=tf.float32)\n",
    "ty = tf.constant(y,dtype=tf.float32)"
   ],
   "metadata": {
    "collapsed": false,
    "ExecuteTime": {
     "end_time": "2023-10-30T06:04:45.079817Z",
     "start_time": "2023-10-30T06:04:45.068472Z"
    }
   },
   "id": "164af9266228bd4b"
  },
  {
   "cell_type": "code",
   "execution_count": 34,
   "outputs": [
    {
     "name": "stdout",
     "output_type": "stream",
     "text": [
      "Model: \"sequential_2\"\n",
      "_________________________________________________________________\n",
      " Layer (type)                Output Shape              Param #   \n",
      "=================================================================\n",
      " batch_normalization_6 (Bat  (None, 15)                60        \n",
      " chNormalization)                                                \n",
      "                                                                 \n",
      " dense_8 (Dense)             (None, 15)                240       \n",
      "                                                                 \n",
      " batch_normalization_7 (Bat  (None, 15)                60        \n",
      " chNormalization)                                                \n",
      "                                                                 \n",
      " dense_9 (Dense)             (None, 30)                480       \n",
      "                                                                 \n",
      " dense_10 (Dense)            (None, 15)                465       \n",
      "                                                                 \n",
      " batch_normalization_8 (Bat  (None, 15)                60        \n",
      " chNormalization)                                                \n",
      "                                                                 \n",
      " dense_11 (Dense)            (None, 2)                 32        \n",
      "                                                                 \n",
      "=================================================================\n",
      "Total params: 1397 (5.46 KB)\n",
      "Trainable params: 1307 (5.11 KB)\n",
      "Non-trainable params: 90 (360.00 Byte)\n",
      "_________________________________________________________________\n"
     ]
    }
   ],
   "source": [
    "model = tf.keras.Sequential([\n",
    "    InputLayer(input_shape=len(x.columns)),\n",
    "    tf.keras.layers.BatchNormalization(),\n",
    "    Dense(15,activation = 'relu'),\n",
    "    tf.keras.layers.BatchNormalization(),\n",
    "    Dense(30,activation = 'relu'),\n",
    "    Dense(15,activation = 'relu'),\n",
    "    tf.keras.layers.BatchNormalization(),\n",
    "    Dense(2,activation = 'softmax'),\n",
    "])\n",
    "model.summary()"
   ],
   "metadata": {
    "collapsed": false,
    "ExecuteTime": {
     "end_time": "2023-10-30T06:04:45.259054Z",
     "start_time": "2023-10-30T06:04:45.223841Z"
    }
   },
   "id": "c001075229ba380f"
  },
  {
   "cell_type": "code",
   "execution_count": 35,
   "outputs": [
    {
     "name": "stderr",
     "output_type": "stream",
     "text": [
      "WARNING:absl:At this time, the v2.11+ optimizer `tf.keras.optimizers.Adam` runs slowly on M1/M2 Macs, please use the legacy Keras optimizer instead, located at `tf.keras.optimizers.legacy.Adam`.\n"
     ]
    }
   ],
   "source": [
    "model.compile(loss = tf.keras.losses.SparseCategoricalCrossentropy(),optimizer = tf.keras.optimizers.Adam(learning_rate=0.001),metrics=['accuracy'])"
   ],
   "metadata": {
    "collapsed": false,
    "ExecuteTime": {
     "end_time": "2023-10-30T06:04:45.883459Z",
     "start_time": "2023-10-30T06:04:45.875814Z"
    }
   },
   "id": "c390b82014389e1e"
  },
  {
   "cell_type": "code",
   "execution_count": 36,
   "outputs": [
    {
     "name": "stdout",
     "output_type": "stream",
     "text": [
      "Epoch 1/200\n",
      "578/578 [==============================] - 1s 838us/step - loss: 0.6615 - accuracy: 0.6149\n",
      "Epoch 2/200\n",
      "578/578 [==============================] - 0s 858us/step - loss: 0.6218 - accuracy: 0.6606\n",
      "Epoch 3/200\n",
      "578/578 [==============================] - 0s 850us/step - loss: 0.6132 - accuracy: 0.6698\n",
      "Epoch 4/200\n",
      "578/578 [==============================] - 0s 811us/step - loss: 0.6081 - accuracy: 0.6742\n",
      "Epoch 5/200\n",
      "578/578 [==============================] - 0s 805us/step - loss: 0.6025 - accuracy: 0.6792\n",
      "Epoch 6/200\n",
      "578/578 [==============================] - 0s 829us/step - loss: 0.5992 - accuracy: 0.6842\n",
      "Epoch 7/200\n",
      "578/578 [==============================] - 0s 787us/step - loss: 0.5975 - accuracy: 0.6832\n",
      "Epoch 8/200\n",
      "578/578 [==============================] - 0s 819us/step - loss: 0.5949 - accuracy: 0.6868\n",
      "Epoch 9/200\n",
      "578/578 [==============================] - 0s 787us/step - loss: 0.5904 - accuracy: 0.6929\n",
      "Epoch 10/200\n",
      "578/578 [==============================] - 0s 813us/step - loss: 0.5878 - accuracy: 0.6975\n",
      "Epoch 11/200\n",
      "578/578 [==============================] - 0s 807us/step - loss: 0.5846 - accuracy: 0.6994\n",
      "Epoch 12/200\n",
      "578/578 [==============================] - 0s 810us/step - loss: 0.5853 - accuracy: 0.6967\n",
      "Epoch 13/200\n",
      "578/578 [==============================] - 1s 909us/step - loss: 0.5791 - accuracy: 0.7022\n",
      "Epoch 14/200\n",
      "578/578 [==============================] - 1s 904us/step - loss: 0.5762 - accuracy: 0.7037\n",
      "Epoch 15/200\n",
      "578/578 [==============================] - 0s 792us/step - loss: 0.5750 - accuracy: 0.7047\n",
      "Epoch 16/200\n",
      "578/578 [==============================] - 0s 854us/step - loss: 0.5758 - accuracy: 0.7033\n",
      "Epoch 17/200\n",
      "578/578 [==============================] - 0s 820us/step - loss: 0.5765 - accuracy: 0.7057\n",
      "Epoch 18/200\n",
      "578/578 [==============================] - 0s 832us/step - loss: 0.5730 - accuracy: 0.7059\n",
      "Epoch 19/200\n",
      "578/578 [==============================] - 0s 805us/step - loss: 0.5705 - accuracy: 0.7120\n",
      "Epoch 20/200\n",
      "578/578 [==============================] - 0s 806us/step - loss: 0.5708 - accuracy: 0.7094\n",
      "Epoch 21/200\n",
      "578/578 [==============================] - 0s 773us/step - loss: 0.5705 - accuracy: 0.7102\n",
      "Epoch 22/200\n",
      "578/578 [==============================] - 0s 756us/step - loss: 0.5685 - accuracy: 0.7112\n",
      "Epoch 23/200\n",
      "578/578 [==============================] - 0s 784us/step - loss: 0.5662 - accuracy: 0.7152\n",
      "Epoch 24/200\n",
      "578/578 [==============================] - 0s 756us/step - loss: 0.5662 - accuracy: 0.7124\n",
      "Epoch 25/200\n",
      "578/578 [==============================] - 0s 775us/step - loss: 0.5679 - accuracy: 0.7114\n",
      "Epoch 26/200\n",
      "578/578 [==============================] - 0s 755us/step - loss: 0.5653 - accuracy: 0.7124\n",
      "Epoch 27/200\n",
      "578/578 [==============================] - 0s 781us/step - loss: 0.5623 - accuracy: 0.7199\n",
      "Epoch 28/200\n",
      "578/578 [==============================] - 0s 805us/step - loss: 0.5661 - accuracy: 0.7103\n",
      "Epoch 29/200\n",
      "578/578 [==============================] - 0s 805us/step - loss: 0.5625 - accuracy: 0.7206\n",
      "Epoch 30/200\n",
      "578/578 [==============================] - 0s 818us/step - loss: 0.5612 - accuracy: 0.7194\n",
      "Epoch 31/200\n",
      "578/578 [==============================] - 0s 821us/step - loss: 0.5639 - accuracy: 0.7138\n",
      "Epoch 32/200\n",
      "578/578 [==============================] - 0s 794us/step - loss: 0.5585 - accuracy: 0.7208\n",
      "Epoch 33/200\n",
      "578/578 [==============================] - 0s 758us/step - loss: 0.5565 - accuracy: 0.7217\n",
      "Epoch 34/200\n",
      "578/578 [==============================] - 0s 848us/step - loss: 0.5566 - accuracy: 0.7198\n",
      "Epoch 35/200\n",
      "578/578 [==============================] - 0s 764us/step - loss: 0.5587 - accuracy: 0.7188\n",
      "Epoch 36/200\n",
      "578/578 [==============================] - 0s 809us/step - loss: 0.5597 - accuracy: 0.7196\n",
      "Epoch 37/200\n",
      "578/578 [==============================] - 0s 752us/step - loss: 0.5551 - accuracy: 0.7224\n",
      "Epoch 38/200\n",
      "578/578 [==============================] - 0s 829us/step - loss: 0.5612 - accuracy: 0.7180\n",
      "Epoch 39/200\n",
      "578/578 [==============================] - 0s 769us/step - loss: 0.5564 - accuracy: 0.7229\n",
      "Epoch 40/200\n",
      "578/578 [==============================] - 0s 805us/step - loss: 0.5557 - accuracy: 0.7213\n",
      "Epoch 41/200\n",
      "578/578 [==============================] - 0s 751us/step - loss: 0.5573 - accuracy: 0.7238\n",
      "Epoch 42/200\n",
      "578/578 [==============================] - 0s 808us/step - loss: 0.5558 - accuracy: 0.7269\n",
      "Epoch 43/200\n",
      "578/578 [==============================] - 0s 791us/step - loss: 0.5563 - accuracy: 0.7218\n",
      "Epoch 44/200\n",
      "578/578 [==============================] - 0s 812us/step - loss: 0.5544 - accuracy: 0.7243\n",
      "Epoch 45/200\n",
      "578/578 [==============================] - 0s 796us/step - loss: 0.5549 - accuracy: 0.7237\n",
      "Epoch 46/200\n",
      "578/578 [==============================] - 0s 814us/step - loss: 0.5516 - accuracy: 0.7243\n",
      "Epoch 47/200\n",
      "578/578 [==============================] - 0s 789us/step - loss: 0.5545 - accuracy: 0.7257\n",
      "Epoch 48/200\n",
      "578/578 [==============================] - 0s 765us/step - loss: 0.5547 - accuracy: 0.7220\n",
      "Epoch 49/200\n",
      "578/578 [==============================] - 0s 817us/step - loss: 0.5545 - accuracy: 0.7235\n",
      "Epoch 50/200\n",
      "578/578 [==============================] - 0s 764us/step - loss: 0.5534 - accuracy: 0.7258\n",
      "Epoch 51/200\n",
      "578/578 [==============================] - 0s 777us/step - loss: 0.5534 - accuracy: 0.7249\n",
      "Epoch 52/200\n",
      "578/578 [==============================] - 0s 764us/step - loss: 0.5486 - accuracy: 0.7240\n",
      "Epoch 53/200\n",
      "578/578 [==============================] - 0s 837us/step - loss: 0.5544 - accuracy: 0.7244\n",
      "Epoch 54/200\n",
      "578/578 [==============================] - 0s 808us/step - loss: 0.5494 - accuracy: 0.7267\n",
      "Epoch 55/200\n",
      "578/578 [==============================] - 0s 824us/step - loss: 0.5491 - accuracy: 0.7263\n",
      "Epoch 56/200\n",
      "578/578 [==============================] - 0s 780us/step - loss: 0.5519 - accuracy: 0.7263\n",
      "Epoch 57/200\n",
      "578/578 [==============================] - 0s 802us/step - loss: 0.5517 - accuracy: 0.7242\n",
      "Epoch 58/200\n",
      "578/578 [==============================] - 0s 754us/step - loss: 0.5500 - accuracy: 0.7274\n",
      "Epoch 59/200\n",
      "578/578 [==============================] - 0s 756us/step - loss: 0.5482 - accuracy: 0.7277\n",
      "Epoch 60/200\n",
      "578/578 [==============================] - 0s 780us/step - loss: 0.5471 - accuracy: 0.7308\n",
      "Epoch 61/200\n",
      "578/578 [==============================] - 0s 764us/step - loss: 0.5488 - accuracy: 0.7277\n",
      "Epoch 62/200\n",
      "578/578 [==============================] - 0s 774us/step - loss: 0.5485 - accuracy: 0.7330\n",
      "Epoch 63/200\n",
      "578/578 [==============================] - 0s 767us/step - loss: 0.5482 - accuracy: 0.7281\n",
      "Epoch 64/200\n",
      "578/578 [==============================] - 0s 786us/step - loss: 0.5508 - accuracy: 0.7266\n",
      "Epoch 65/200\n",
      "578/578 [==============================] - 0s 800us/step - loss: 0.5496 - accuracy: 0.7258\n",
      "Epoch 66/200\n",
      "578/578 [==============================] - 0s 816us/step - loss: 0.5461 - accuracy: 0.7318\n",
      "Epoch 67/200\n",
      "578/578 [==============================] - 0s 794us/step - loss: 0.5457 - accuracy: 0.7317\n",
      "Epoch 68/200\n",
      "578/578 [==============================] - 0s 804us/step - loss: 0.5473 - accuracy: 0.7257\n",
      "Epoch 69/200\n",
      "578/578 [==============================] - 0s 791us/step - loss: 0.5454 - accuracy: 0.7301\n",
      "Epoch 70/200\n",
      "578/578 [==============================] - 0s 785us/step - loss: 0.5427 - accuracy: 0.7312\n",
      "Epoch 71/200\n",
      "578/578 [==============================] - 0s 801us/step - loss: 0.5459 - accuracy: 0.7333\n",
      "Epoch 72/200\n",
      "578/578 [==============================] - 0s 770us/step - loss: 0.5442 - accuracy: 0.7323\n",
      "Epoch 73/200\n",
      "578/578 [==============================] - 0s 788us/step - loss: 0.5484 - accuracy: 0.7280\n",
      "Epoch 74/200\n",
      "578/578 [==============================] - 0s 803us/step - loss: 0.5468 - accuracy: 0.7304\n",
      "Epoch 75/200\n",
      "578/578 [==============================] - 0s 823us/step - loss: 0.5420 - accuracy: 0.7351\n",
      "Epoch 76/200\n",
      "578/578 [==============================] - 0s 827us/step - loss: 0.5471 - accuracy: 0.7261\n",
      "Epoch 77/200\n",
      "578/578 [==============================] - 0s 803us/step - loss: 0.5429 - accuracy: 0.7322\n",
      "Epoch 78/200\n",
      "578/578 [==============================] - 0s 800us/step - loss: 0.5471 - accuracy: 0.7277\n",
      "Epoch 79/200\n",
      "578/578 [==============================] - 0s 788us/step - loss: 0.5423 - accuracy: 0.7326\n",
      "Epoch 80/200\n",
      "578/578 [==============================] - 0s 778us/step - loss: 0.5440 - accuracy: 0.7291\n",
      "Epoch 81/200\n",
      "578/578 [==============================] - 0s 782us/step - loss: 0.5448 - accuracy: 0.7299\n",
      "Epoch 82/200\n",
      "578/578 [==============================] - 0s 788us/step - loss: 0.5428 - accuracy: 0.7337\n",
      "Epoch 83/200\n",
      "578/578 [==============================] - 0s 821us/step - loss: 0.5429 - accuracy: 0.7354\n",
      "Epoch 84/200\n",
      "578/578 [==============================] - 0s 788us/step - loss: 0.5420 - accuracy: 0.7337\n",
      "Epoch 85/200\n",
      "578/578 [==============================] - 0s 757us/step - loss: 0.5450 - accuracy: 0.7319\n",
      "Epoch 86/200\n",
      "578/578 [==============================] - 0s 824us/step - loss: 0.5408 - accuracy: 0.7338\n",
      "Epoch 87/200\n",
      "578/578 [==============================] - 0s 792us/step - loss: 0.5418 - accuracy: 0.7323\n",
      "Epoch 88/200\n",
      "578/578 [==============================] - 1s 889us/step - loss: 0.5400 - accuracy: 0.7349\n",
      "Epoch 89/200\n",
      "578/578 [==============================] - 0s 816us/step - loss: 0.5439 - accuracy: 0.7323\n",
      "Epoch 90/200\n",
      "578/578 [==============================] - 0s 819us/step - loss: 0.5426 - accuracy: 0.7297\n",
      "Epoch 91/200\n",
      "578/578 [==============================] - 0s 834us/step - loss: 0.5423 - accuracy: 0.7321\n",
      "Epoch 92/200\n",
      "578/578 [==============================] - 0s 862us/step - loss: 0.5396 - accuracy: 0.7353\n",
      "Epoch 93/200\n",
      "578/578 [==============================] - 0s 823us/step - loss: 0.5425 - accuracy: 0.7329\n",
      "Epoch 94/200\n",
      "578/578 [==============================] - 1s 902us/step - loss: 0.5415 - accuracy: 0.7321\n",
      "Epoch 95/200\n",
      "578/578 [==============================] - 0s 798us/step - loss: 0.5433 - accuracy: 0.7315\n",
      "Epoch 96/200\n",
      "578/578 [==============================] - 0s 853us/step - loss: 0.5431 - accuracy: 0.7328\n",
      "Epoch 97/200\n",
      "578/578 [==============================] - 0s 762us/step - loss: 0.5431 - accuracy: 0.7305\n",
      "Epoch 98/200\n",
      "578/578 [==============================] - 0s 843us/step - loss: 0.5435 - accuracy: 0.7287\n",
      "Epoch 99/200\n",
      "578/578 [==============================] - 0s 825us/step - loss: 0.5400 - accuracy: 0.7332\n",
      "Epoch 100/200\n",
      "578/578 [==============================] - 0s 832us/step - loss: 0.5436 - accuracy: 0.7308\n",
      "Epoch 101/200\n",
      "578/578 [==============================] - 0s 769us/step - loss: 0.5407 - accuracy: 0.7321\n",
      "Epoch 102/200\n",
      "578/578 [==============================] - 1s 896us/step - loss: 0.5426 - accuracy: 0.7310\n",
      "Epoch 103/200\n",
      "578/578 [==============================] - 0s 782us/step - loss: 0.5409 - accuracy: 0.7332\n",
      "Epoch 104/200\n",
      "578/578 [==============================] - 0s 753us/step - loss: 0.5420 - accuracy: 0.7349\n",
      "Epoch 105/200\n",
      "578/578 [==============================] - 0s 831us/step - loss: 0.5403 - accuracy: 0.7329\n",
      "Epoch 106/200\n",
      "578/578 [==============================] - 0s 774us/step - loss: 0.5409 - accuracy: 0.7317\n",
      "Epoch 107/200\n",
      "578/578 [==============================] - 0s 770us/step - loss: 0.5385 - accuracy: 0.7360\n",
      "Epoch 108/200\n",
      "578/578 [==============================] - 0s 757us/step - loss: 0.5378 - accuracy: 0.7335\n",
      "Epoch 109/200\n",
      "578/578 [==============================] - 0s 764us/step - loss: 0.5425 - accuracy: 0.7329\n",
      "Epoch 110/200\n",
      "578/578 [==============================] - 0s 748us/step - loss: 0.5394 - accuracy: 0.7369\n",
      "Epoch 111/200\n",
      "578/578 [==============================] - 0s 766us/step - loss: 0.5424 - accuracy: 0.7343\n",
      "Epoch 112/200\n",
      "578/578 [==============================] - 0s 774us/step - loss: 0.5396 - accuracy: 0.7334\n",
      "Epoch 113/200\n",
      "578/578 [==============================] - 0s 782us/step - loss: 0.5377 - accuracy: 0.7329\n",
      "Epoch 114/200\n",
      "578/578 [==============================] - 0s 749us/step - loss: 0.5379 - accuracy: 0.7367\n",
      "Epoch 115/200\n",
      "578/578 [==============================] - 0s 765us/step - loss: 0.5405 - accuracy: 0.7331\n",
      "Epoch 116/200\n",
      "578/578 [==============================] - 0s 758us/step - loss: 0.5381 - accuracy: 0.7367\n",
      "Epoch 117/200\n",
      "578/578 [==============================] - 0s 761us/step - loss: 0.5377 - accuracy: 0.7350\n",
      "Epoch 118/200\n",
      "578/578 [==============================] - 0s 771us/step - loss: 0.5375 - accuracy: 0.7326\n",
      "Epoch 119/200\n",
      "578/578 [==============================] - 0s 758us/step - loss: 0.5416 - accuracy: 0.7319\n",
      "Epoch 120/200\n",
      "578/578 [==============================] - 0s 767us/step - loss: 0.5397 - accuracy: 0.7346\n",
      "Epoch 121/200\n",
      "578/578 [==============================] - 0s 766us/step - loss: 0.5414 - accuracy: 0.7340\n",
      "Epoch 122/200\n",
      "578/578 [==============================] - 0s 746us/step - loss: 0.5346 - accuracy: 0.7387\n",
      "Epoch 123/200\n",
      "578/578 [==============================] - 0s 755us/step - loss: 0.5365 - accuracy: 0.7332\n",
      "Epoch 124/200\n",
      "578/578 [==============================] - 0s 760us/step - loss: 0.5378 - accuracy: 0.7369\n",
      "Epoch 125/200\n",
      "578/578 [==============================] - 1s 865us/step - loss: 0.5403 - accuracy: 0.7324\n",
      "Epoch 126/200\n",
      "578/578 [==============================] - 0s 762us/step - loss: 0.5411 - accuracy: 0.7343\n",
      "Epoch 127/200\n",
      "578/578 [==============================] - 0s 777us/step - loss: 0.5374 - accuracy: 0.7363\n",
      "Epoch 128/200\n",
      "578/578 [==============================] - 0s 774us/step - loss: 0.5387 - accuracy: 0.7373\n",
      "Epoch 129/200\n",
      "578/578 [==============================] - 0s 788us/step - loss: 0.5413 - accuracy: 0.7317\n",
      "Epoch 130/200\n",
      "578/578 [==============================] - 0s 753us/step - loss: 0.5341 - accuracy: 0.7381\n",
      "Epoch 131/200\n",
      "578/578 [==============================] - 0s 784us/step - loss: 0.5352 - accuracy: 0.7388\n",
      "Epoch 132/200\n",
      "578/578 [==============================] - 0s 758us/step - loss: 0.5386 - accuracy: 0.7370\n",
      "Epoch 133/200\n",
      "578/578 [==============================] - 0s 748us/step - loss: 0.5388 - accuracy: 0.7376\n",
      "Epoch 134/200\n",
      "578/578 [==============================] - 0s 780us/step - loss: 0.5385 - accuracy: 0.7361\n",
      "Epoch 135/200\n",
      "578/578 [==============================] - 0s 758us/step - loss: 0.5389 - accuracy: 0.7333\n",
      "Epoch 136/200\n",
      "578/578 [==============================] - 0s 770us/step - loss: 0.5379 - accuracy: 0.7351\n",
      "Epoch 137/200\n",
      "578/578 [==============================] - 0s 778us/step - loss: 0.5345 - accuracy: 0.7380\n",
      "Epoch 138/200\n",
      "578/578 [==============================] - 0s 777us/step - loss: 0.5367 - accuracy: 0.7371\n",
      "Epoch 139/200\n",
      "578/578 [==============================] - 0s 804us/step - loss: 0.5387 - accuracy: 0.7352\n",
      "Epoch 140/200\n",
      "578/578 [==============================] - 0s 857us/step - loss: 0.5330 - accuracy: 0.7397\n",
      "Epoch 141/200\n",
      "578/578 [==============================] - 0s 799us/step - loss: 0.5376 - accuracy: 0.7363\n",
      "Epoch 142/200\n",
      "578/578 [==============================] - 0s 781us/step - loss: 0.5375 - accuracy: 0.7382\n",
      "Epoch 143/200\n",
      "578/578 [==============================] - 0s 798us/step - loss: 0.5359 - accuracy: 0.7364\n",
      "Epoch 144/200\n",
      "578/578 [==============================] - 1s 935us/step - loss: 0.5382 - accuracy: 0.7380\n",
      "Epoch 145/200\n",
      "578/578 [==============================] - 0s 779us/step - loss: 0.5402 - accuracy: 0.7334\n",
      "Epoch 146/200\n",
      "578/578 [==============================] - 0s 798us/step - loss: 0.5347 - accuracy: 0.7384\n",
      "Epoch 147/200\n",
      "578/578 [==============================] - 0s 790us/step - loss: 0.5378 - accuracy: 0.7378\n",
      "Epoch 148/200\n",
      "578/578 [==============================] - 0s 784us/step - loss: 0.5415 - accuracy: 0.7352\n",
      "Epoch 149/200\n",
      "578/578 [==============================] - 0s 791us/step - loss: 0.5358 - accuracy: 0.7391\n",
      "Epoch 150/200\n",
      "578/578 [==============================] - 0s 752us/step - loss: 0.5340 - accuracy: 0.7362\n",
      "Epoch 151/200\n",
      "578/578 [==============================] - 0s 777us/step - loss: 0.5363 - accuracy: 0.7336\n",
      "Epoch 152/200\n",
      "578/578 [==============================] - 0s 760us/step - loss: 0.5394 - accuracy: 0.7352\n",
      "Epoch 153/200\n",
      "578/578 [==============================] - 0s 781us/step - loss: 0.5319 - accuracy: 0.7389\n",
      "Epoch 154/200\n",
      "578/578 [==============================] - 0s 763us/step - loss: 0.5362 - accuracy: 0.7428\n",
      "Epoch 155/200\n",
      "578/578 [==============================] - 0s 774us/step - loss: 0.5387 - accuracy: 0.7345\n",
      "Epoch 156/200\n",
      "578/578 [==============================] - 0s 749us/step - loss: 0.5339 - accuracy: 0.7380\n",
      "Epoch 157/200\n",
      "578/578 [==============================] - 0s 766us/step - loss: 0.5357 - accuracy: 0.7411\n",
      "Epoch 158/200\n",
      "578/578 [==============================] - 0s 778us/step - loss: 0.5358 - accuracy: 0.7369\n",
      "Epoch 159/200\n",
      "578/578 [==============================] - 0s 771us/step - loss: 0.5365 - accuracy: 0.7383\n",
      "Epoch 160/200\n",
      "578/578 [==============================] - 0s 775us/step - loss: 0.5356 - accuracy: 0.7357\n",
      "Epoch 161/200\n",
      "578/578 [==============================] - 0s 752us/step - loss: 0.5354 - accuracy: 0.7383\n",
      "Epoch 162/200\n",
      "578/578 [==============================] - 0s 764us/step - loss: 0.5350 - accuracy: 0.7355\n",
      "Epoch 163/200\n",
      "578/578 [==============================] - 0s 761us/step - loss: 0.5355 - accuracy: 0.7379\n",
      "Epoch 164/200\n",
      "578/578 [==============================] - 0s 767us/step - loss: 0.5351 - accuracy: 0.7377\n",
      "Epoch 165/200\n",
      "578/578 [==============================] - 0s 784us/step - loss: 0.5361 - accuracy: 0.7391\n",
      "Epoch 166/200\n",
      "578/578 [==============================] - 0s 751us/step - loss: 0.5342 - accuracy: 0.7405\n",
      "Epoch 167/200\n",
      "578/578 [==============================] - 0s 774us/step - loss: 0.5366 - accuracy: 0.7359\n",
      "Epoch 168/200\n",
      "578/578 [==============================] - 0s 747us/step - loss: 0.5338 - accuracy: 0.7385\n",
      "Epoch 169/200\n",
      "578/578 [==============================] - 0s 792us/step - loss: 0.5335 - accuracy: 0.7379\n",
      "Epoch 170/200\n",
      "578/578 [==============================] - 0s 769us/step - loss: 0.5336 - accuracy: 0.7410\n",
      "Epoch 171/200\n",
      "578/578 [==============================] - 0s 777us/step - loss: 0.5376 - accuracy: 0.7349\n",
      "Epoch 172/200\n",
      "578/578 [==============================] - 0s 764us/step - loss: 0.5336 - accuracy: 0.7397\n",
      "Epoch 173/200\n",
      "578/578 [==============================] - 0s 781us/step - loss: 0.5334 - accuracy: 0.7387\n",
      "Epoch 174/200\n",
      "578/578 [==============================] - 0s 844us/step - loss: 0.5336 - accuracy: 0.7386\n",
      "Epoch 175/200\n",
      "578/578 [==============================] - 0s 805us/step - loss: 0.5332 - accuracy: 0.7383\n",
      "Epoch 176/200\n",
      "578/578 [==============================] - 0s 844us/step - loss: 0.5318 - accuracy: 0.7414\n",
      "Epoch 177/200\n",
      "578/578 [==============================] - 0s 833us/step - loss: 0.5330 - accuracy: 0.7401\n",
      "Epoch 178/200\n",
      "578/578 [==============================] - 1s 877us/step - loss: 0.5324 - accuracy: 0.7367\n",
      "Epoch 179/200\n",
      "578/578 [==============================] - 1s 949us/step - loss: 0.5334 - accuracy: 0.7399\n",
      "Epoch 180/200\n",
      "578/578 [==============================] - 1s 948us/step - loss: 0.5354 - accuracy: 0.7396\n",
      "Epoch 181/200\n",
      "578/578 [==============================] - 1s 904us/step - loss: 0.5339 - accuracy: 0.7420\n",
      "Epoch 182/200\n",
      "578/578 [==============================] - 0s 765us/step - loss: 0.5328 - accuracy: 0.7371\n",
      "Epoch 183/200\n",
      "578/578 [==============================] - 0s 787us/step - loss: 0.5337 - accuracy: 0.7380\n",
      "Epoch 184/200\n",
      "578/578 [==============================] - 0s 832us/step - loss: 0.5327 - accuracy: 0.7409\n",
      "Epoch 185/200\n",
      "578/578 [==============================] - 0s 776us/step - loss: 0.5336 - accuracy: 0.7391\n",
      "Epoch 186/200\n",
      "578/578 [==============================] - 0s 825us/step - loss: 0.5298 - accuracy: 0.7395\n",
      "Epoch 187/200\n",
      "578/578 [==============================] - 0s 775us/step - loss: 0.5349 - accuracy: 0.7378\n",
      "Epoch 188/200\n",
      "578/578 [==============================] - 0s 772us/step - loss: 0.5354 - accuracy: 0.7353\n",
      "Epoch 189/200\n",
      "578/578 [==============================] - 0s 777us/step - loss: 0.5358 - accuracy: 0.7374\n",
      "Epoch 190/200\n",
      "578/578 [==============================] - 0s 767us/step - loss: 0.5354 - accuracy: 0.7359\n",
      "Epoch 191/200\n",
      "578/578 [==============================] - 0s 789us/step - loss: 0.5323 - accuracy: 0.7398\n",
      "Epoch 192/200\n",
      "578/578 [==============================] - 0s 775us/step - loss: 0.5337 - accuracy: 0.7359\n",
      "Epoch 193/200\n",
      "578/578 [==============================] - 0s 777us/step - loss: 0.5380 - accuracy: 0.7351\n",
      "Epoch 194/200\n",
      "578/578 [==============================] - 0s 798us/step - loss: 0.5328 - accuracy: 0.7391\n",
      "Epoch 195/200\n",
      "578/578 [==============================] - 0s 794us/step - loss: 0.5297 - accuracy: 0.7441\n",
      "Epoch 196/200\n",
      "578/578 [==============================] - 0s 849us/step - loss: 0.5306 - accuracy: 0.7432\n",
      "Epoch 197/200\n",
      "578/578 [==============================] - 1s 866us/step - loss: 0.5312 - accuracy: 0.7416\n",
      "Epoch 198/200\n",
      "578/578 [==============================] - 1s 878us/step - loss: 0.5308 - accuracy: 0.7391\n",
      "Epoch 199/200\n",
      "578/578 [==============================] - 1s 943us/step - loss: 0.5325 - accuracy: 0.7395\n",
      "Epoch 200/200\n",
      "578/578 [==============================] - 1s 937us/step - loss: 0.5362 - accuracy: 0.7384\n"
     ]
    },
    {
     "data": {
      "text/plain": "<keras.src.callbacks.History at 0x2933c9510>"
     },
     "execution_count": 36,
     "metadata": {},
     "output_type": "execute_result"
    }
   ],
   "source": [
    "model.fit(tx,ty,epochs = 200)"
   ],
   "metadata": {
    "collapsed": false,
    "ExecuteTime": {
     "end_time": "2023-10-30T06:06:19.524923Z",
     "start_time": "2023-10-30T06:04:46.359597Z"
    }
   },
   "id": "a9befce8af84a24e"
  },
  {
   "cell_type": "code",
   "execution_count": 37,
   "outputs": [
    {
     "name": "stdout",
     "output_type": "stream",
     "text": [
      "INFO:tensorflow:Assets written to: /Users/jainampatel/Desktop/work/lab-3/assets\n"
     ]
    },
    {
     "name": "stderr",
     "output_type": "stream",
     "text": [
      "INFO:tensorflow:Assets written to: /Users/jainampatel/Desktop/work/lab-3/assets\n"
     ]
    }
   ],
   "source": [],
   "metadata": {
    "collapsed": false,
    "ExecuteTime": {
     "end_time": "2023-10-30T06:06:36.787665Z",
     "start_time": "2023-10-30T06:06:36.364918Z"
    }
   },
   "id": "b5bdd7b64c1533e0"
  },
  {
   "cell_type": "code",
   "execution_count": 38,
   "outputs": [
    {
     "ename": "SyntaxError",
     "evalue": "invalid syntax (3465074448.py, line 1)",
     "output_type": "error",
     "traceback": [
      "\u001B[0;36m  Cell \u001B[0;32mIn[38], line 1\u001B[0;36m\u001B[0m\n\u001B[0;31m    netron path_to_saved_model/saved_model.pb\u001B[0m\n\u001B[0m           ^\u001B[0m\n\u001B[0;31mSyntaxError\u001B[0m\u001B[0;31m:\u001B[0m invalid syntax\n"
     ]
    }
   ],
   "source": [],
   "metadata": {
    "collapsed": false,
    "ExecuteTime": {
     "end_time": "2023-10-30T06:07:08.911360Z",
     "start_time": "2023-10-30T06:07:08.906388Z"
    }
   },
   "id": "21882ba762d7491e"
  },
  {
   "cell_type": "code",
   "execution_count": null,
   "outputs": [],
   "source": [],
   "metadata": {
    "collapsed": false
   },
   "id": "9e532e67e358abed"
  }
 ],
 "metadata": {
  "kernelspec": {
   "display_name": "Python 3",
   "language": "python",
   "name": "python3"
  },
  "language_info": {
   "codemirror_mode": {
    "name": "ipython",
    "version": 2
   },
   "file_extension": ".py",
   "mimetype": "text/x-python",
   "name": "python",
   "nbconvert_exporter": "python",
   "pygments_lexer": "ipython2",
   "version": "2.7.6"
  }
 },
 "nbformat": 4,
 "nbformat_minor": 5
}
